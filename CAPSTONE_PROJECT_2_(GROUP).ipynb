{
  "cells": [
    {
      "cell_type": "markdown",
      "metadata": {
        "id": "view-in-github",
        "colab_type": "text"
      },
      "source": [
        "<a href=\"https://colab.research.google.com/github/Anas182000/BIKE-SHARING-DEMAND-PREDICTION/blob/main/CAPSTONE_PROJECT_2_(GROUP).ipynb\" target=\"_parent\"><img src=\"https://colab.research.google.com/assets/colab-badge.svg\" alt=\"Open In Colab\"/></a>"
      ]
    },
    {
      "cell_type": "markdown",
      "metadata": {
        "id": "NljQxz7B508j"
      },
      "source": [
        "# **CAPSTONE - BIKE SHARING DEMAND PREDICTION**\n",
        "*This project will be performed with the help of Supervised Linear Regression model. We will be performing basic check on the data for any errors followed by EDA and at last we will train our Machine Learning model on the data to predict outputs for new inputs provided.*\n",
        "\n",
        "\n",
        "  \n"
      ]
    },
    {
      "cell_type": "markdown",
      "metadata": {
        "id": "O5eXjUad5gr7"
      },
      "source": [
        "# **PROBLEM STATEMENT**\n"
      ]
    },
    {
      "cell_type": "markdown",
      "metadata": {
        "id": "BGjtGaD5Cqjt"
      },
      "source": [
        "Currently Rental bikes are introduced in many urban cities for the enhancement of mobility comfort. It is important to make the rental bike available and accessible to the public at the right time as it lessens the waiting time. Eventually, providing the city with a stable supply of rental bikes becomes a major concern. The crucial part is the prediction of bike count required at each hour for the stable supply of rental bikes."
      ]
    },
    {
      "cell_type": "markdown",
      "metadata": {
        "id": "BFeyiZEN8eVG"
      },
      "source": [
        "# **UNDERSTANDING THE PROBLEM FROM A BUSINESS PRESPECTIVE.**"
      ]
    },
    {
      "cell_type": "markdown",
      "metadata": {
        "id": "7zWYEtW79WjH"
      },
      "source": [
        "### *Why this business is progressing fast?*\n",
        "1. Revenue in the Bike-sharing segment is projected to reach US$7.96bn in 2022.\n",
        "2. In the Bike-sharing segment, the number of users is expected to amount to 930.3m users by 2026.\n",
        "3. User penetration is 10.0% in 2022 and is expected to hit 11.8% by 2026.\n",
        "4. Bike sharing business has a profit margin of almost 60%.\n",
        "5. Bike sharing business is eco-friendly way of commute and so it attracts more customers.\n",
        "6. Bike sharing businesses are also purpose-driven businesses in a way, as they help the environment to reduce its carbon footprint and air pollution.\n",
        "\n",
        "\n",
        "### *Understanding the problem.*\n",
        "1. As a business, our first priority is to benefit and serve our customers with the best service and no delay in service.\n",
        "2. To avoid a bike shortage for our customers and to save their time, we need to be prepared beforehand. For that, we have to use our past data for predictions.\n",
        "3. We can benefit our business by predicting how many bikes could be needed at a specified time, by just taking a look at the temperature, time, day, weather and many other things.\n",
        "4. We can predict our revenue, profits and operation cost by predicting the total number of bikes that could be rented on a day.\n"
      ]
    },
    {
      "cell_type": "markdown",
      "metadata": {
        "id": "fyjhDhls9USd"
      },
      "source": [
        "# **INTRODUCTION**\n"
      ]
    },
    {
      "cell_type": "markdown",
      "metadata": {
        "id": "jCn62vahClk8"
      },
      "source": [
        "*We have been provided with the bike rental demand data of 2017 December to November 2018 (1 year total), in order to perform supervised liner regression and identify the relationships between different variables. The data includes information on the number of bike rentals, the weather conditions, and the day of the week. The goal is to use this data to predict the demand for bike rentals in the future.*\n",
        "\n",
        " "
      ]
    },
    {
      "cell_type": "markdown",
      "metadata": {
        "id": "8-pylNxF-LHx"
      },
      "source": [
        "# **FEATURE'S DESCRIPTION**\n"
      ]
    },
    {
      "cell_type": "markdown",
      "metadata": {
        "id": "5xGF-i_pCZp2"
      },
      "source": [
        "**Date** - Date on which the bike was rented(year-month-day).\n",
        "\n",
        "**Rented Bike count** - Number of bikes rented in that hour.\n",
        "\n",
        "**Hour** - Hour of the day.\n",
        "\n",
        "**Temperature** -Temperature at that time (Celsius).\n",
        "\n",
        "**Humidity** - Percentage of humidity in air (%).\n",
        "\n",
        "**Windspeed** - Speed of the wind (m/s).\n",
        "\n",
        "**Visibility** - How far is the visibility (*10m).\n",
        "\n",
        "**Dew point temperature** - The dew point is the temperature the air needs to be cooled at constant pressure to in order to achieve a relative humidityof 100% (°C).\n",
        "\n",
        "**Solar radiation** - Solar radiation is the energy recieved on an area on earth from the Sun (MJ/m²).\n",
        "\n",
        "**Rainfall** - Measure of Rainfall (mm).\n",
        "\n",
        "**Snowfall** - Measure of Snowfall (cm).\n",
        "\n",
        "**Seasons** - which season is bike rented (Winter, Spring, Summer, Autumn).\n",
        "\n",
        "**Holiday** - Was it a holiday or not (Holiday/No holiday).\n",
        "\n",
        "**Functional Day** - Was it a Functional day or not.(Yes/No).\n"
      ]
    },
    {
      "cell_type": "markdown",
      "metadata": {
        "id": "QsNwpSi2CEzE"
      },
      "source": [
        "# **INITIALIZING**"
      ]
    },
    {
      "cell_type": "markdown",
      "metadata": {
        "id": "ovgJFYjeDI07"
      },
      "source": [
        "## Importing Libraries and Modules."
      ]
    },
    {
      "cell_type": "code",
      "execution_count": null,
      "metadata": {
        "id": "ttD0Ftk_DQ0_"
      },
      "outputs": [],
      "source": [
        "import pandas as pd\n",
        "\n",
        "import numpy as np\n",
        "from numpy import math\n",
        "\n",
        "import matplotlib.pyplot as plt\n",
        "%matplotlib inline\n",
        "\n",
        "import seaborn as sns\n",
        "\n",
        "from datetime import datetime\n",
        "import datetime as dt\n",
        "\n",
        "from sklearn.preprocessing import MinMaxScaler, OneHotEncoder, MultiLabelBinarizer, StandardScaler, PolynomialFeatures\n",
        "\n",
        "from sklearn.linear_model import LinearRegression, Lasso, Ridge, ElasticNet\n",
        "\n",
        "from sklearn.tree import DecisionTreeRegressor\n",
        "\n",
        "from sklearn.ensemble import RandomForestRegressor, GradientBoostingRegressor\n",
        "\n",
        "from sklearn.model_selection import cross_validate, train_test_split, GridSearchCV, cross_val_score, RepeatedStratifiedKFold, RandomizedSearchCV\n",
        "\n",
        "from sklearn import metrics\n",
        "\n",
        "from sklearn.metrics import r2_score, log_loss, mean_squared_error, accuracy_score, mean_absolute_error\n",
        "\n",
        "from sklearn.pipeline import make_pipeline\n",
        "\n",
        "from scipy.stats import skew\n",
        "\n",
        "pd.options.mode.chained_assignment = None  # default='warn'\n",
        "\n",
        "from patsy import dmatrices\n",
        "import statsmodels.api as sm\n",
        "from statsmodels.stats.outliers_influence import variance_inflation_factor\n"
      ]
    },
    {
      "cell_type": "markdown",
      "metadata": {
        "id": "piHto1beCW01"
      },
      "source": [
        "## Adding Dataset."
      ]
    },
    {
      "cell_type": "code",
      "execution_count": null,
      "metadata": {
        "id": "jjDPo5XV13_C"
      },
      "outputs": [],
      "source": [
        "# Adding Data set throught link.\n",
        "url = \"https://drive.google.com/file/d/1dZ7p614gC_iwxHwcj-1N0Lc155AGMTJS/view?usp=sharing\"\n",
        "url='https://drive.google.com/uc?id=' + url.split('/')[-2]\n",
        "\n",
        "# Naming our dataset\n",
        "df =  pd.read_csv(url,  encoding= 'unicode_escape')\n"
      ]
    },
    {
      "cell_type": "code",
      "execution_count": null,
      "metadata": {
        "id": "MS2k7dhgH3qq"
      },
      "outputs": [],
      "source": [
        "# Creating a copy, for working on it without harming the orignal dataset.\n",
        "bike_df = df.copy()\n"
      ]
    },
    {
      "cell_type": "markdown",
      "metadata": {
        "id": "HuyOvLoRJVy0"
      },
      "source": [
        "# **DATA OVERVIEW**"
      ]
    },
    {
      "cell_type": "code",
      "execution_count": null,
      "metadata": {
        "id": "yV-GBQOuJfe_",
        "colab": {
          "base_uri": "https://localhost:8080/"
        },
        "outputId": "003fa965-b1d6-4988-c4a9-fd8cd4c831c4"
      },
      "outputs": [
        {
          "output_type": "execute_result",
          "data": {
            "text/plain": [
              "         Date  Rented Bike Count  Hour  Temperature(°C)  Humidity(%)  \\\n",
              "0  01/12/2017                254     0             -5.2           37   \n",
              "1  01/12/2017                204     1             -5.5           38   \n",
              "2  01/12/2017                173     2             -6.0           39   \n",
              "3  01/12/2017                107     3             -6.2           40   \n",
              "4  01/12/2017                 78     4             -6.0           36   \n",
              "\n",
              "   Wind speed (m/s)  Visibility (10m)  Dew point temperature(°C)  \\\n",
              "0               2.2              2000                      -17.6   \n",
              "1               0.8              2000                      -17.6   \n",
              "2               1.0              2000                      -17.7   \n",
              "3               0.9              2000                      -17.6   \n",
              "4               2.3              2000                      -18.6   \n",
              "\n",
              "   Solar Radiation (MJ/m2)  Rainfall(mm)  Snowfall (cm) Seasons     Holiday  \\\n",
              "0                      0.0           0.0            0.0  Winter  No Holiday   \n",
              "1                      0.0           0.0            0.0  Winter  No Holiday   \n",
              "2                      0.0           0.0            0.0  Winter  No Holiday   \n",
              "3                      0.0           0.0            0.0  Winter  No Holiday   \n",
              "4                      0.0           0.0            0.0  Winter  No Holiday   \n",
              "\n",
              "  Functioning Day  \n",
              "0             Yes  \n",
              "1             Yes  \n",
              "2             Yes  \n",
              "3             Yes  \n",
              "4             Yes  "
            ],
            "text/html": [
              "\n",
              "  <div id=\"df-84178db8-2f10-43dc-8b49-edb40eda8e29\">\n",
              "    <div class=\"colab-df-container\">\n",
              "      <div>\n",
              "<style scoped>\n",
              "    .dataframe tbody tr th:only-of-type {\n",
              "        vertical-align: middle;\n",
              "    }\n",
              "\n",
              "    .dataframe tbody tr th {\n",
              "        vertical-align: top;\n",
              "    }\n",
              "\n",
              "    .dataframe thead th {\n",
              "        text-align: right;\n",
              "    }\n",
              "</style>\n",
              "<table border=\"1\" class=\"dataframe\">\n",
              "  <thead>\n",
              "    <tr style=\"text-align: right;\">\n",
              "      <th></th>\n",
              "      <th>Date</th>\n",
              "      <th>Rented Bike Count</th>\n",
              "      <th>Hour</th>\n",
              "      <th>Temperature(°C)</th>\n",
              "      <th>Humidity(%)</th>\n",
              "      <th>Wind speed (m/s)</th>\n",
              "      <th>Visibility (10m)</th>\n",
              "      <th>Dew point temperature(°C)</th>\n",
              "      <th>Solar Radiation (MJ/m2)</th>\n",
              "      <th>Rainfall(mm)</th>\n",
              "      <th>Snowfall (cm)</th>\n",
              "      <th>Seasons</th>\n",
              "      <th>Holiday</th>\n",
              "      <th>Functioning Day</th>\n",
              "    </tr>\n",
              "  </thead>\n",
              "  <tbody>\n",
              "    <tr>\n",
              "      <th>0</th>\n",
              "      <td>01/12/2017</td>\n",
              "      <td>254</td>\n",
              "      <td>0</td>\n",
              "      <td>-5.2</td>\n",
              "      <td>37</td>\n",
              "      <td>2.2</td>\n",
              "      <td>2000</td>\n",
              "      <td>-17.6</td>\n",
              "      <td>0.0</td>\n",
              "      <td>0.0</td>\n",
              "      <td>0.0</td>\n",
              "      <td>Winter</td>\n",
              "      <td>No Holiday</td>\n",
              "      <td>Yes</td>\n",
              "    </tr>\n",
              "    <tr>\n",
              "      <th>1</th>\n",
              "      <td>01/12/2017</td>\n",
              "      <td>204</td>\n",
              "      <td>1</td>\n",
              "      <td>-5.5</td>\n",
              "      <td>38</td>\n",
              "      <td>0.8</td>\n",
              "      <td>2000</td>\n",
              "      <td>-17.6</td>\n",
              "      <td>0.0</td>\n",
              "      <td>0.0</td>\n",
              "      <td>0.0</td>\n",
              "      <td>Winter</td>\n",
              "      <td>No Holiday</td>\n",
              "      <td>Yes</td>\n",
              "    </tr>\n",
              "    <tr>\n",
              "      <th>2</th>\n",
              "      <td>01/12/2017</td>\n",
              "      <td>173</td>\n",
              "      <td>2</td>\n",
              "      <td>-6.0</td>\n",
              "      <td>39</td>\n",
              "      <td>1.0</td>\n",
              "      <td>2000</td>\n",
              "      <td>-17.7</td>\n",
              "      <td>0.0</td>\n",
              "      <td>0.0</td>\n",
              "      <td>0.0</td>\n",
              "      <td>Winter</td>\n",
              "      <td>No Holiday</td>\n",
              "      <td>Yes</td>\n",
              "    </tr>\n",
              "    <tr>\n",
              "      <th>3</th>\n",
              "      <td>01/12/2017</td>\n",
              "      <td>107</td>\n",
              "      <td>3</td>\n",
              "      <td>-6.2</td>\n",
              "      <td>40</td>\n",
              "      <td>0.9</td>\n",
              "      <td>2000</td>\n",
              "      <td>-17.6</td>\n",
              "      <td>0.0</td>\n",
              "      <td>0.0</td>\n",
              "      <td>0.0</td>\n",
              "      <td>Winter</td>\n",
              "      <td>No Holiday</td>\n",
              "      <td>Yes</td>\n",
              "    </tr>\n",
              "    <tr>\n",
              "      <th>4</th>\n",
              "      <td>01/12/2017</td>\n",
              "      <td>78</td>\n",
              "      <td>4</td>\n",
              "      <td>-6.0</td>\n",
              "      <td>36</td>\n",
              "      <td>2.3</td>\n",
              "      <td>2000</td>\n",
              "      <td>-18.6</td>\n",
              "      <td>0.0</td>\n",
              "      <td>0.0</td>\n",
              "      <td>0.0</td>\n",
              "      <td>Winter</td>\n",
              "      <td>No Holiday</td>\n",
              "      <td>Yes</td>\n",
              "    </tr>\n",
              "  </tbody>\n",
              "</table>\n",
              "</div>\n",
              "      <button class=\"colab-df-convert\" onclick=\"convertToInteractive('df-84178db8-2f10-43dc-8b49-edb40eda8e29')\"\n",
              "              title=\"Convert this dataframe to an interactive table.\"\n",
              "              style=\"display:none;\">\n",
              "        \n",
              "  <svg xmlns=\"http://www.w3.org/2000/svg\" height=\"24px\"viewBox=\"0 0 24 24\"\n",
              "       width=\"24px\">\n",
              "    <path d=\"M0 0h24v24H0V0z\" fill=\"none\"/>\n",
              "    <path d=\"M18.56 5.44l.94 2.06.94-2.06 2.06-.94-2.06-.94-.94-2.06-.94 2.06-2.06.94zm-11 1L8.5 8.5l.94-2.06 2.06-.94-2.06-.94L8.5 2.5l-.94 2.06-2.06.94zm10 10l.94 2.06.94-2.06 2.06-.94-2.06-.94-.94-2.06-.94 2.06-2.06.94z\"/><path d=\"M17.41 7.96l-1.37-1.37c-.4-.4-.92-.59-1.43-.59-.52 0-1.04.2-1.43.59L10.3 9.45l-7.72 7.72c-.78.78-.78 2.05 0 2.83L4 21.41c.39.39.9.59 1.41.59.51 0 1.02-.2 1.41-.59l7.78-7.78 2.81-2.81c.8-.78.8-2.07 0-2.86zM5.41 20L4 18.59l7.72-7.72 1.47 1.35L5.41 20z\"/>\n",
              "  </svg>\n",
              "      </button>\n",
              "      \n",
              "  <style>\n",
              "    .colab-df-container {\n",
              "      display:flex;\n",
              "      flex-wrap:wrap;\n",
              "      gap: 12px;\n",
              "    }\n",
              "\n",
              "    .colab-df-convert {\n",
              "      background-color: #E8F0FE;\n",
              "      border: none;\n",
              "      border-radius: 50%;\n",
              "      cursor: pointer;\n",
              "      display: none;\n",
              "      fill: #1967D2;\n",
              "      height: 32px;\n",
              "      padding: 0 0 0 0;\n",
              "      width: 32px;\n",
              "    }\n",
              "\n",
              "    .colab-df-convert:hover {\n",
              "      background-color: #E2EBFA;\n",
              "      box-shadow: 0px 1px 2px rgba(60, 64, 67, 0.3), 0px 1px 3px 1px rgba(60, 64, 67, 0.15);\n",
              "      fill: #174EA6;\n",
              "    }\n",
              "\n",
              "    [theme=dark] .colab-df-convert {\n",
              "      background-color: #3B4455;\n",
              "      fill: #D2E3FC;\n",
              "    }\n",
              "\n",
              "    [theme=dark] .colab-df-convert:hover {\n",
              "      background-color: #434B5C;\n",
              "      box-shadow: 0px 1px 3px 1px rgba(0, 0, 0, 0.15);\n",
              "      filter: drop-shadow(0px 1px 2px rgba(0, 0, 0, 0.3));\n",
              "      fill: #FFFFFF;\n",
              "    }\n",
              "  </style>\n",
              "\n",
              "      <script>\n",
              "        const buttonEl =\n",
              "          document.querySelector('#df-84178db8-2f10-43dc-8b49-edb40eda8e29 button.colab-df-convert');\n",
              "        buttonEl.style.display =\n",
              "          google.colab.kernel.accessAllowed ? 'block' : 'none';\n",
              "\n",
              "        async function convertToInteractive(key) {\n",
              "          const element = document.querySelector('#df-84178db8-2f10-43dc-8b49-edb40eda8e29');\n",
              "          const dataTable =\n",
              "            await google.colab.kernel.invokeFunction('convertToInteractive',\n",
              "                                                     [key], {});\n",
              "          if (!dataTable) return;\n",
              "\n",
              "          const docLinkHtml = 'Like what you see? Visit the ' +\n",
              "            '<a target=\"_blank\" href=https://colab.research.google.com/notebooks/data_table.ipynb>data table notebook</a>'\n",
              "            + ' to learn more about interactive tables.';\n",
              "          element.innerHTML = '';\n",
              "          dataTable['output_type'] = 'display_data';\n",
              "          await google.colab.output.renderOutput(dataTable, element);\n",
              "          const docLink = document.createElement('div');\n",
              "          docLink.innerHTML = docLinkHtml;\n",
              "          element.appendChild(docLink);\n",
              "        }\n",
              "      </script>\n",
              "    </div>\n",
              "  </div>\n",
              "  "
            ]
          },
          "metadata": {},
          "execution_count": 4
        }
      ],
      "source": [
        "# checking top 5 Rows or instances.\n",
        "bike_df.head()"
      ]
    },
    {
      "cell_type": "code",
      "execution_count": null,
      "metadata": {
        "id": "qOVBpLFQJklt",
        "colab": {
          "base_uri": "https://localhost:8080/"
        },
        "outputId": "3b1cdc7c-8536-4b2d-d8df-e2f1ae08084f"
      },
      "outputs": [
        {
          "output_type": "execute_result",
          "data": {
            "text/plain": [
              "            Date  Rented Bike Count  Hour  Temperature(°C)  Humidity(%)  \\\n",
              "8755  30/11/2018               1003    19              4.2           34   \n",
              "8756  30/11/2018                764    20              3.4           37   \n",
              "8757  30/11/2018                694    21              2.6           39   \n",
              "8758  30/11/2018                712    22              2.1           41   \n",
              "8759  30/11/2018                584    23              1.9           43   \n",
              "\n",
              "      Wind speed (m/s)  Visibility (10m)  Dew point temperature(°C)  \\\n",
              "8755               2.6              1894                      -10.3   \n",
              "8756               2.3              2000                       -9.9   \n",
              "8757               0.3              1968                       -9.9   \n",
              "8758               1.0              1859                       -9.8   \n",
              "8759               1.3              1909                       -9.3   \n",
              "\n",
              "      Solar Radiation (MJ/m2)  Rainfall(mm)  Snowfall (cm) Seasons  \\\n",
              "8755                      0.0           0.0            0.0  Autumn   \n",
              "8756                      0.0           0.0            0.0  Autumn   \n",
              "8757                      0.0           0.0            0.0  Autumn   \n",
              "8758                      0.0           0.0            0.0  Autumn   \n",
              "8759                      0.0           0.0            0.0  Autumn   \n",
              "\n",
              "         Holiday Functioning Day  \n",
              "8755  No Holiday             Yes  \n",
              "8756  No Holiday             Yes  \n",
              "8757  No Holiday             Yes  \n",
              "8758  No Holiday             Yes  \n",
              "8759  No Holiday             Yes  "
            ],
            "text/html": [
              "\n",
              "  <div id=\"df-2d8af5ae-fb6b-4b7a-a501-7f1c7f404f97\">\n",
              "    <div class=\"colab-df-container\">\n",
              "      <div>\n",
              "<style scoped>\n",
              "    .dataframe tbody tr th:only-of-type {\n",
              "        vertical-align: middle;\n",
              "    }\n",
              "\n",
              "    .dataframe tbody tr th {\n",
              "        vertical-align: top;\n",
              "    }\n",
              "\n",
              "    .dataframe thead th {\n",
              "        text-align: right;\n",
              "    }\n",
              "</style>\n",
              "<table border=\"1\" class=\"dataframe\">\n",
              "  <thead>\n",
              "    <tr style=\"text-align: right;\">\n",
              "      <th></th>\n",
              "      <th>Date</th>\n",
              "      <th>Rented Bike Count</th>\n",
              "      <th>Hour</th>\n",
              "      <th>Temperature(°C)</th>\n",
              "      <th>Humidity(%)</th>\n",
              "      <th>Wind speed (m/s)</th>\n",
              "      <th>Visibility (10m)</th>\n",
              "      <th>Dew point temperature(°C)</th>\n",
              "      <th>Solar Radiation (MJ/m2)</th>\n",
              "      <th>Rainfall(mm)</th>\n",
              "      <th>Snowfall (cm)</th>\n",
              "      <th>Seasons</th>\n",
              "      <th>Holiday</th>\n",
              "      <th>Functioning Day</th>\n",
              "    </tr>\n",
              "  </thead>\n",
              "  <tbody>\n",
              "    <tr>\n",
              "      <th>8755</th>\n",
              "      <td>30/11/2018</td>\n",
              "      <td>1003</td>\n",
              "      <td>19</td>\n",
              "      <td>4.2</td>\n",
              "      <td>34</td>\n",
              "      <td>2.6</td>\n",
              "      <td>1894</td>\n",
              "      <td>-10.3</td>\n",
              "      <td>0.0</td>\n",
              "      <td>0.0</td>\n",
              "      <td>0.0</td>\n",
              "      <td>Autumn</td>\n",
              "      <td>No Holiday</td>\n",
              "      <td>Yes</td>\n",
              "    </tr>\n",
              "    <tr>\n",
              "      <th>8756</th>\n",
              "      <td>30/11/2018</td>\n",
              "      <td>764</td>\n",
              "      <td>20</td>\n",
              "      <td>3.4</td>\n",
              "      <td>37</td>\n",
              "      <td>2.3</td>\n",
              "      <td>2000</td>\n",
              "      <td>-9.9</td>\n",
              "      <td>0.0</td>\n",
              "      <td>0.0</td>\n",
              "      <td>0.0</td>\n",
              "      <td>Autumn</td>\n",
              "      <td>No Holiday</td>\n",
              "      <td>Yes</td>\n",
              "    </tr>\n",
              "    <tr>\n",
              "      <th>8757</th>\n",
              "      <td>30/11/2018</td>\n",
              "      <td>694</td>\n",
              "      <td>21</td>\n",
              "      <td>2.6</td>\n",
              "      <td>39</td>\n",
              "      <td>0.3</td>\n",
              "      <td>1968</td>\n",
              "      <td>-9.9</td>\n",
              "      <td>0.0</td>\n",
              "      <td>0.0</td>\n",
              "      <td>0.0</td>\n",
              "      <td>Autumn</td>\n",
              "      <td>No Holiday</td>\n",
              "      <td>Yes</td>\n",
              "    </tr>\n",
              "    <tr>\n",
              "      <th>8758</th>\n",
              "      <td>30/11/2018</td>\n",
              "      <td>712</td>\n",
              "      <td>22</td>\n",
              "      <td>2.1</td>\n",
              "      <td>41</td>\n",
              "      <td>1.0</td>\n",
              "      <td>1859</td>\n",
              "      <td>-9.8</td>\n",
              "      <td>0.0</td>\n",
              "      <td>0.0</td>\n",
              "      <td>0.0</td>\n",
              "      <td>Autumn</td>\n",
              "      <td>No Holiday</td>\n",
              "      <td>Yes</td>\n",
              "    </tr>\n",
              "    <tr>\n",
              "      <th>8759</th>\n",
              "      <td>30/11/2018</td>\n",
              "      <td>584</td>\n",
              "      <td>23</td>\n",
              "      <td>1.9</td>\n",
              "      <td>43</td>\n",
              "      <td>1.3</td>\n",
              "      <td>1909</td>\n",
              "      <td>-9.3</td>\n",
              "      <td>0.0</td>\n",
              "      <td>0.0</td>\n",
              "      <td>0.0</td>\n",
              "      <td>Autumn</td>\n",
              "      <td>No Holiday</td>\n",
              "      <td>Yes</td>\n",
              "    </tr>\n",
              "  </tbody>\n",
              "</table>\n",
              "</div>\n",
              "      <button class=\"colab-df-convert\" onclick=\"convertToInteractive('df-2d8af5ae-fb6b-4b7a-a501-7f1c7f404f97')\"\n",
              "              title=\"Convert this dataframe to an interactive table.\"\n",
              "              style=\"display:none;\">\n",
              "        \n",
              "  <svg xmlns=\"http://www.w3.org/2000/svg\" height=\"24px\"viewBox=\"0 0 24 24\"\n",
              "       width=\"24px\">\n",
              "    <path d=\"M0 0h24v24H0V0z\" fill=\"none\"/>\n",
              "    <path d=\"M18.56 5.44l.94 2.06.94-2.06 2.06-.94-2.06-.94-.94-2.06-.94 2.06-2.06.94zm-11 1L8.5 8.5l.94-2.06 2.06-.94-2.06-.94L8.5 2.5l-.94 2.06-2.06.94zm10 10l.94 2.06.94-2.06 2.06-.94-2.06-.94-.94-2.06-.94 2.06-2.06.94z\"/><path d=\"M17.41 7.96l-1.37-1.37c-.4-.4-.92-.59-1.43-.59-.52 0-1.04.2-1.43.59L10.3 9.45l-7.72 7.72c-.78.78-.78 2.05 0 2.83L4 21.41c.39.39.9.59 1.41.59.51 0 1.02-.2 1.41-.59l7.78-7.78 2.81-2.81c.8-.78.8-2.07 0-2.86zM5.41 20L4 18.59l7.72-7.72 1.47 1.35L5.41 20z\"/>\n",
              "  </svg>\n",
              "      </button>\n",
              "      \n",
              "  <style>\n",
              "    .colab-df-container {\n",
              "      display:flex;\n",
              "      flex-wrap:wrap;\n",
              "      gap: 12px;\n",
              "    }\n",
              "\n",
              "    .colab-df-convert {\n",
              "      background-color: #E8F0FE;\n",
              "      border: none;\n",
              "      border-radius: 50%;\n",
              "      cursor: pointer;\n",
              "      display: none;\n",
              "      fill: #1967D2;\n",
              "      height: 32px;\n",
              "      padding: 0 0 0 0;\n",
              "      width: 32px;\n",
              "    }\n",
              "\n",
              "    .colab-df-convert:hover {\n",
              "      background-color: #E2EBFA;\n",
              "      box-shadow: 0px 1px 2px rgba(60, 64, 67, 0.3), 0px 1px 3px 1px rgba(60, 64, 67, 0.15);\n",
              "      fill: #174EA6;\n",
              "    }\n",
              "\n",
              "    [theme=dark] .colab-df-convert {\n",
              "      background-color: #3B4455;\n",
              "      fill: #D2E3FC;\n",
              "    }\n",
              "\n",
              "    [theme=dark] .colab-df-convert:hover {\n",
              "      background-color: #434B5C;\n",
              "      box-shadow: 0px 1px 3px 1px rgba(0, 0, 0, 0.15);\n",
              "      filter: drop-shadow(0px 1px 2px rgba(0, 0, 0, 0.3));\n",
              "      fill: #FFFFFF;\n",
              "    }\n",
              "  </style>\n",
              "\n",
              "      <script>\n",
              "        const buttonEl =\n",
              "          document.querySelector('#df-2d8af5ae-fb6b-4b7a-a501-7f1c7f404f97 button.colab-df-convert');\n",
              "        buttonEl.style.display =\n",
              "          google.colab.kernel.accessAllowed ? 'block' : 'none';\n",
              "\n",
              "        async function convertToInteractive(key) {\n",
              "          const element = document.querySelector('#df-2d8af5ae-fb6b-4b7a-a501-7f1c7f404f97');\n",
              "          const dataTable =\n",
              "            await google.colab.kernel.invokeFunction('convertToInteractive',\n",
              "                                                     [key], {});\n",
              "          if (!dataTable) return;\n",
              "\n",
              "          const docLinkHtml = 'Like what you see? Visit the ' +\n",
              "            '<a target=\"_blank\" href=https://colab.research.google.com/notebooks/data_table.ipynb>data table notebook</a>'\n",
              "            + ' to learn more about interactive tables.';\n",
              "          element.innerHTML = '';\n",
              "          dataTable['output_type'] = 'display_data';\n",
              "          await google.colab.output.renderOutput(dataTable, element);\n",
              "          const docLink = document.createElement('div');\n",
              "          docLink.innerHTML = docLinkHtml;\n",
              "          element.appendChild(docLink);\n",
              "        }\n",
              "      </script>\n",
              "    </div>\n",
              "  </div>\n",
              "  "
            ]
          },
          "metadata": {},
          "execution_count": 5
        }
      ],
      "source": [
        "# checking last 5 Rows or instances.\n",
        "bike_df.tail()      "
      ]
    },
    {
      "cell_type": "code",
      "execution_count": null,
      "metadata": {
        "id": "_edLq7LuKGTk",
        "colab": {
          "base_uri": "https://localhost:8080/"
        },
        "outputId": "9c94c9d7-6bc5-4318-86b6-5fd26fdad4f6"
      },
      "outputs": [
        {
          "output_type": "execute_result",
          "data": {
            "text/plain": [
              "(8760, 14)"
            ]
          },
          "metadata": {},
          "execution_count": 6
        }
      ],
      "source": [
        "# checking total rows and columns ( Rows, Columns).\n",
        "bike_df.shape"
      ]
    },
    {
      "cell_type": "markdown",
      "metadata": {
        "id": "-Pvf3gNLNwv0"
      },
      "source": [
        "Some insights:-\n",
        "1.  We have 8760 instances and 14 features."
      ]
    },
    {
      "cell_type": "code",
      "execution_count": null,
      "metadata": {
        "id": "k4fyMKMJKG41",
        "colab": {
          "base_uri": "https://localhost:8080/"
        },
        "outputId": "0f856fba-c43c-4db8-9e74-19b0ba4f6563"
      },
      "outputs": [
        {
          "output_type": "stream",
          "name": "stdout",
          "text": [
            "<class 'pandas.core.frame.DataFrame'>\n",
            "RangeIndex: 8760 entries, 0 to 8759\n",
            "Data columns (total 14 columns):\n",
            " #   Column                     Non-Null Count  Dtype  \n",
            "---  ------                     --------------  -----  \n",
            " 0   Date                       8760 non-null   object \n",
            " 1   Rented Bike Count          8760 non-null   int64  \n",
            " 2   Hour                       8760 non-null   int64  \n",
            " 3   Temperature(°C)            8760 non-null   float64\n",
            " 4   Humidity(%)                8760 non-null   int64  \n",
            " 5   Wind speed (m/s)           8760 non-null   float64\n",
            " 6   Visibility (10m)           8760 non-null   int64  \n",
            " 7   Dew point temperature(°C)  8760 non-null   float64\n",
            " 8   Solar Radiation (MJ/m2)    8760 non-null   float64\n",
            " 9   Rainfall(mm)               8760 non-null   float64\n",
            " 10  Snowfall (cm)              8760 non-null   float64\n",
            " 11  Seasons                    8760 non-null   object \n",
            " 12  Holiday                    8760 non-null   object \n",
            " 13  Functioning Day            8760 non-null   object \n",
            "dtypes: float64(6), int64(4), object(4)\n",
            "memory usage: 958.2+ KB\n"
          ]
        }
      ],
      "source": [
        "# checking basic information of all columns such as datatype, total number null values present, memory usage etc.\n",
        "bike_df.info()"
      ]
    },
    {
      "cell_type": "markdown",
      "metadata": {
        "id": "RWt3BiE1K_42"
      },
      "source": [
        "Some insights:-\n",
        "1. We do not have any null values present in any column\n",
        "2. We have 4 columns which have object data type. others are either float64 or int64."
      ]
    },
    {
      "cell_type": "code",
      "execution_count": null,
      "metadata": {
        "id": "ltX9-q3OKHnX",
        "colab": {
          "base_uri": "https://localhost:8080/"
        },
        "outputId": "261aaf5f-a9db-49ef-f396-fab334c950df"
      },
      "outputs": [
        {
          "output_type": "execute_result",
          "data": {
            "text/plain": [
              "                            count unique         top  freq         mean  \\\n",
              "Date                         8760    365  01/12/2017    24          NaN   \n",
              "Rented Bike Count          8760.0    NaN         NaN   NaN   704.602055   \n",
              "Hour                       8760.0    NaN         NaN   NaN         11.5   \n",
              "Temperature(°C)            8760.0    NaN         NaN   NaN    12.882922   \n",
              "Humidity(%)                8760.0    NaN         NaN   NaN    58.226256   \n",
              "Wind speed (m/s)           8760.0    NaN         NaN   NaN     1.724909   \n",
              "Visibility (10m)           8760.0    NaN         NaN   NaN  1436.825799   \n",
              "Dew point temperature(°C)  8760.0    NaN         NaN   NaN     4.073813   \n",
              "Solar Radiation (MJ/m2)    8760.0    NaN         NaN   NaN     0.569111   \n",
              "Rainfall(mm)               8760.0    NaN         NaN   NaN     0.148687   \n",
              "Snowfall (cm)              8760.0    NaN         NaN   NaN     0.075068   \n",
              "Seasons                      8760      4      Spring  2208          NaN   \n",
              "Holiday                      8760      2  No Holiday  8328          NaN   \n",
              "Functioning Day              8760      2         Yes  8465          NaN   \n",
              "\n",
              "                                  std   min    25%     50%      75%     max  \n",
              "Date                              NaN   NaN    NaN     NaN      NaN     NaN  \n",
              "Rented Bike Count          644.997468   0.0  191.0   504.5  1065.25  3556.0  \n",
              "Hour                         6.922582   0.0   5.75    11.5    17.25    23.0  \n",
              "Temperature(°C)             11.944825 -17.8    3.5    13.7     22.5    39.4  \n",
              "Humidity(%)                 20.362413   0.0   42.0    57.0     74.0    98.0  \n",
              "Wind speed (m/s)               1.0363   0.0    0.9     1.5      2.3     7.4  \n",
              "Visibility (10m)           608.298712  27.0  940.0  1698.0   2000.0  2000.0  \n",
              "Dew point temperature(°C)   13.060369 -30.6   -4.7     5.1     14.8    27.2  \n",
              "Solar Radiation (MJ/m2)      0.868746   0.0    0.0    0.01     0.93    3.52  \n",
              "Rainfall(mm)                 1.128193   0.0    0.0     0.0      0.0    35.0  \n",
              "Snowfall (cm)                0.436746   0.0    0.0     0.0      0.0     8.8  \n",
              "Seasons                           NaN   NaN    NaN     NaN      NaN     NaN  \n",
              "Holiday                           NaN   NaN    NaN     NaN      NaN     NaN  \n",
              "Functioning Day                   NaN   NaN    NaN     NaN      NaN     NaN  "
            ],
            "text/html": [
              "\n",
              "  <div id=\"df-a5ba02e7-748c-4931-a41e-a78df43c8a71\">\n",
              "    <div class=\"colab-df-container\">\n",
              "      <div>\n",
              "<style scoped>\n",
              "    .dataframe tbody tr th:only-of-type {\n",
              "        vertical-align: middle;\n",
              "    }\n",
              "\n",
              "    .dataframe tbody tr th {\n",
              "        vertical-align: top;\n",
              "    }\n",
              "\n",
              "    .dataframe thead th {\n",
              "        text-align: right;\n",
              "    }\n",
              "</style>\n",
              "<table border=\"1\" class=\"dataframe\">\n",
              "  <thead>\n",
              "    <tr style=\"text-align: right;\">\n",
              "      <th></th>\n",
              "      <th>count</th>\n",
              "      <th>unique</th>\n",
              "      <th>top</th>\n",
              "      <th>freq</th>\n",
              "      <th>mean</th>\n",
              "      <th>std</th>\n",
              "      <th>min</th>\n",
              "      <th>25%</th>\n",
              "      <th>50%</th>\n",
              "      <th>75%</th>\n",
              "      <th>max</th>\n",
              "    </tr>\n",
              "  </thead>\n",
              "  <tbody>\n",
              "    <tr>\n",
              "      <th>Date</th>\n",
              "      <td>8760</td>\n",
              "      <td>365</td>\n",
              "      <td>01/12/2017</td>\n",
              "      <td>24</td>\n",
              "      <td>NaN</td>\n",
              "      <td>NaN</td>\n",
              "      <td>NaN</td>\n",
              "      <td>NaN</td>\n",
              "      <td>NaN</td>\n",
              "      <td>NaN</td>\n",
              "      <td>NaN</td>\n",
              "    </tr>\n",
              "    <tr>\n",
              "      <th>Rented Bike Count</th>\n",
              "      <td>8760.0</td>\n",
              "      <td>NaN</td>\n",
              "      <td>NaN</td>\n",
              "      <td>NaN</td>\n",
              "      <td>704.602055</td>\n",
              "      <td>644.997468</td>\n",
              "      <td>0.0</td>\n",
              "      <td>191.0</td>\n",
              "      <td>504.5</td>\n",
              "      <td>1065.25</td>\n",
              "      <td>3556.0</td>\n",
              "    </tr>\n",
              "    <tr>\n",
              "      <th>Hour</th>\n",
              "      <td>8760.0</td>\n",
              "      <td>NaN</td>\n",
              "      <td>NaN</td>\n",
              "      <td>NaN</td>\n",
              "      <td>11.5</td>\n",
              "      <td>6.922582</td>\n",
              "      <td>0.0</td>\n",
              "      <td>5.75</td>\n",
              "      <td>11.5</td>\n",
              "      <td>17.25</td>\n",
              "      <td>23.0</td>\n",
              "    </tr>\n",
              "    <tr>\n",
              "      <th>Temperature(°C)</th>\n",
              "      <td>8760.0</td>\n",
              "      <td>NaN</td>\n",
              "      <td>NaN</td>\n",
              "      <td>NaN</td>\n",
              "      <td>12.882922</td>\n",
              "      <td>11.944825</td>\n",
              "      <td>-17.8</td>\n",
              "      <td>3.5</td>\n",
              "      <td>13.7</td>\n",
              "      <td>22.5</td>\n",
              "      <td>39.4</td>\n",
              "    </tr>\n",
              "    <tr>\n",
              "      <th>Humidity(%)</th>\n",
              "      <td>8760.0</td>\n",
              "      <td>NaN</td>\n",
              "      <td>NaN</td>\n",
              "      <td>NaN</td>\n",
              "      <td>58.226256</td>\n",
              "      <td>20.362413</td>\n",
              "      <td>0.0</td>\n",
              "      <td>42.0</td>\n",
              "      <td>57.0</td>\n",
              "      <td>74.0</td>\n",
              "      <td>98.0</td>\n",
              "    </tr>\n",
              "    <tr>\n",
              "      <th>Wind speed (m/s)</th>\n",
              "      <td>8760.0</td>\n",
              "      <td>NaN</td>\n",
              "      <td>NaN</td>\n",
              "      <td>NaN</td>\n",
              "      <td>1.724909</td>\n",
              "      <td>1.0363</td>\n",
              "      <td>0.0</td>\n",
              "      <td>0.9</td>\n",
              "      <td>1.5</td>\n",
              "      <td>2.3</td>\n",
              "      <td>7.4</td>\n",
              "    </tr>\n",
              "    <tr>\n",
              "      <th>Visibility (10m)</th>\n",
              "      <td>8760.0</td>\n",
              "      <td>NaN</td>\n",
              "      <td>NaN</td>\n",
              "      <td>NaN</td>\n",
              "      <td>1436.825799</td>\n",
              "      <td>608.298712</td>\n",
              "      <td>27.0</td>\n",
              "      <td>940.0</td>\n",
              "      <td>1698.0</td>\n",
              "      <td>2000.0</td>\n",
              "      <td>2000.0</td>\n",
              "    </tr>\n",
              "    <tr>\n",
              "      <th>Dew point temperature(°C)</th>\n",
              "      <td>8760.0</td>\n",
              "      <td>NaN</td>\n",
              "      <td>NaN</td>\n",
              "      <td>NaN</td>\n",
              "      <td>4.073813</td>\n",
              "      <td>13.060369</td>\n",
              "      <td>-30.6</td>\n",
              "      <td>-4.7</td>\n",
              "      <td>5.1</td>\n",
              "      <td>14.8</td>\n",
              "      <td>27.2</td>\n",
              "    </tr>\n",
              "    <tr>\n",
              "      <th>Solar Radiation (MJ/m2)</th>\n",
              "      <td>8760.0</td>\n",
              "      <td>NaN</td>\n",
              "      <td>NaN</td>\n",
              "      <td>NaN</td>\n",
              "      <td>0.569111</td>\n",
              "      <td>0.868746</td>\n",
              "      <td>0.0</td>\n",
              "      <td>0.0</td>\n",
              "      <td>0.01</td>\n",
              "      <td>0.93</td>\n",
              "      <td>3.52</td>\n",
              "    </tr>\n",
              "    <tr>\n",
              "      <th>Rainfall(mm)</th>\n",
              "      <td>8760.0</td>\n",
              "      <td>NaN</td>\n",
              "      <td>NaN</td>\n",
              "      <td>NaN</td>\n",
              "      <td>0.148687</td>\n",
              "      <td>1.128193</td>\n",
              "      <td>0.0</td>\n",
              "      <td>0.0</td>\n",
              "      <td>0.0</td>\n",
              "      <td>0.0</td>\n",
              "      <td>35.0</td>\n",
              "    </tr>\n",
              "    <tr>\n",
              "      <th>Snowfall (cm)</th>\n",
              "      <td>8760.0</td>\n",
              "      <td>NaN</td>\n",
              "      <td>NaN</td>\n",
              "      <td>NaN</td>\n",
              "      <td>0.075068</td>\n",
              "      <td>0.436746</td>\n",
              "      <td>0.0</td>\n",
              "      <td>0.0</td>\n",
              "      <td>0.0</td>\n",
              "      <td>0.0</td>\n",
              "      <td>8.8</td>\n",
              "    </tr>\n",
              "    <tr>\n",
              "      <th>Seasons</th>\n",
              "      <td>8760</td>\n",
              "      <td>4</td>\n",
              "      <td>Spring</td>\n",
              "      <td>2208</td>\n",
              "      <td>NaN</td>\n",
              "      <td>NaN</td>\n",
              "      <td>NaN</td>\n",
              "      <td>NaN</td>\n",
              "      <td>NaN</td>\n",
              "      <td>NaN</td>\n",
              "      <td>NaN</td>\n",
              "    </tr>\n",
              "    <tr>\n",
              "      <th>Holiday</th>\n",
              "      <td>8760</td>\n",
              "      <td>2</td>\n",
              "      <td>No Holiday</td>\n",
              "      <td>8328</td>\n",
              "      <td>NaN</td>\n",
              "      <td>NaN</td>\n",
              "      <td>NaN</td>\n",
              "      <td>NaN</td>\n",
              "      <td>NaN</td>\n",
              "      <td>NaN</td>\n",
              "      <td>NaN</td>\n",
              "    </tr>\n",
              "    <tr>\n",
              "      <th>Functioning Day</th>\n",
              "      <td>8760</td>\n",
              "      <td>2</td>\n",
              "      <td>Yes</td>\n",
              "      <td>8465</td>\n",
              "      <td>NaN</td>\n",
              "      <td>NaN</td>\n",
              "      <td>NaN</td>\n",
              "      <td>NaN</td>\n",
              "      <td>NaN</td>\n",
              "      <td>NaN</td>\n",
              "      <td>NaN</td>\n",
              "    </tr>\n",
              "  </tbody>\n",
              "</table>\n",
              "</div>\n",
              "      <button class=\"colab-df-convert\" onclick=\"convertToInteractive('df-a5ba02e7-748c-4931-a41e-a78df43c8a71')\"\n",
              "              title=\"Convert this dataframe to an interactive table.\"\n",
              "              style=\"display:none;\">\n",
              "        \n",
              "  <svg xmlns=\"http://www.w3.org/2000/svg\" height=\"24px\"viewBox=\"0 0 24 24\"\n",
              "       width=\"24px\">\n",
              "    <path d=\"M0 0h24v24H0V0z\" fill=\"none\"/>\n",
              "    <path d=\"M18.56 5.44l.94 2.06.94-2.06 2.06-.94-2.06-.94-.94-2.06-.94 2.06-2.06.94zm-11 1L8.5 8.5l.94-2.06 2.06-.94-2.06-.94L8.5 2.5l-.94 2.06-2.06.94zm10 10l.94 2.06.94-2.06 2.06-.94-2.06-.94-.94-2.06-.94 2.06-2.06.94z\"/><path d=\"M17.41 7.96l-1.37-1.37c-.4-.4-.92-.59-1.43-.59-.52 0-1.04.2-1.43.59L10.3 9.45l-7.72 7.72c-.78.78-.78 2.05 0 2.83L4 21.41c.39.39.9.59 1.41.59.51 0 1.02-.2 1.41-.59l7.78-7.78 2.81-2.81c.8-.78.8-2.07 0-2.86zM5.41 20L4 18.59l7.72-7.72 1.47 1.35L5.41 20z\"/>\n",
              "  </svg>\n",
              "      </button>\n",
              "      \n",
              "  <style>\n",
              "    .colab-df-container {\n",
              "      display:flex;\n",
              "      flex-wrap:wrap;\n",
              "      gap: 12px;\n",
              "    }\n",
              "\n",
              "    .colab-df-convert {\n",
              "      background-color: #E8F0FE;\n",
              "      border: none;\n",
              "      border-radius: 50%;\n",
              "      cursor: pointer;\n",
              "      display: none;\n",
              "      fill: #1967D2;\n",
              "      height: 32px;\n",
              "      padding: 0 0 0 0;\n",
              "      width: 32px;\n",
              "    }\n",
              "\n",
              "    .colab-df-convert:hover {\n",
              "      background-color: #E2EBFA;\n",
              "      box-shadow: 0px 1px 2px rgba(60, 64, 67, 0.3), 0px 1px 3px 1px rgba(60, 64, 67, 0.15);\n",
              "      fill: #174EA6;\n",
              "    }\n",
              "\n",
              "    [theme=dark] .colab-df-convert {\n",
              "      background-color: #3B4455;\n",
              "      fill: #D2E3FC;\n",
              "    }\n",
              "\n",
              "    [theme=dark] .colab-df-convert:hover {\n",
              "      background-color: #434B5C;\n",
              "      box-shadow: 0px 1px 3px 1px rgba(0, 0, 0, 0.15);\n",
              "      filter: drop-shadow(0px 1px 2px rgba(0, 0, 0, 0.3));\n",
              "      fill: #FFFFFF;\n",
              "    }\n",
              "  </style>\n",
              "\n",
              "      <script>\n",
              "        const buttonEl =\n",
              "          document.querySelector('#df-a5ba02e7-748c-4931-a41e-a78df43c8a71 button.colab-df-convert');\n",
              "        buttonEl.style.display =\n",
              "          google.colab.kernel.accessAllowed ? 'block' : 'none';\n",
              "\n",
              "        async function convertToInteractive(key) {\n",
              "          const element = document.querySelector('#df-a5ba02e7-748c-4931-a41e-a78df43c8a71');\n",
              "          const dataTable =\n",
              "            await google.colab.kernel.invokeFunction('convertToInteractive',\n",
              "                                                     [key], {});\n",
              "          if (!dataTable) return;\n",
              "\n",
              "          const docLinkHtml = 'Like what you see? Visit the ' +\n",
              "            '<a target=\"_blank\" href=https://colab.research.google.com/notebooks/data_table.ipynb>data table notebook</a>'\n",
              "            + ' to learn more about interactive tables.';\n",
              "          element.innerHTML = '';\n",
              "          dataTable['output_type'] = 'display_data';\n",
              "          await google.colab.output.renderOutput(dataTable, element);\n",
              "          const docLink = document.createElement('div');\n",
              "          docLink.innerHTML = docLinkHtml;\n",
              "          element.appendChild(docLink);\n",
              "        }\n",
              "      </script>\n",
              "    </div>\n",
              "  </div>\n",
              "  "
            ]
          },
          "metadata": {},
          "execution_count": 8
        }
      ],
      "source": [
        "# checking description of all data types columns.\n",
        "bike_df.describe(include='all').T"
      ]
    },
    {
      "cell_type": "code",
      "execution_count": null,
      "metadata": {
        "id": "Ap5TU5qs3ELr",
        "colab": {
          "base_uri": "https://localhost:8080/"
        },
        "outputId": "19839ae6-21b1-420d-c18d-6b01e0734391"
      },
      "outputs": [
        {
          "output_type": "execute_result",
          "data": {
            "text/plain": [
              "Date                          365\n",
              "Rented Bike Count            2166\n",
              "Hour                           24\n",
              "Temperature(°C)               546\n",
              "Humidity(%)                    90\n",
              "Wind speed (m/s)               65\n",
              "Visibility (10m)             1789\n",
              "Dew point temperature(°C)     556\n",
              "Solar Radiation (MJ/m2)       345\n",
              "Rainfall(mm)                   61\n",
              "Snowfall (cm)                  51\n",
              "Seasons                         4\n",
              "Holiday                         2\n",
              "Functioning Day                 2\n",
              "dtype: int64"
            ]
          },
          "metadata": {},
          "execution_count": 9
        }
      ],
      "source": [
        "# Checking for unique values in each column\n",
        "bike_df.nunique()"
      ]
    },
    {
      "cell_type": "markdown",
      "metadata": {
        "id": "F5b2zShQ8J3V"
      },
      "source": [
        "Some insights:-\n",
        "1. By looking at Rented Bike Count,we get mean is more than median. so there can be outliers."
      ]
    },
    {
      "cell_type": "markdown",
      "metadata": {
        "id": "32kTqDX9I_yj"
      },
      "source": [
        "# **CLEANING THE DATASET**\n"
      ]
    },
    {
      "cell_type": "markdown",
      "metadata": {
        "id": "NJrh137WOXyx"
      },
      "source": [
        "## Null values check\n",
        "\n",
        "\n"
      ]
    },
    {
      "cell_type": "code",
      "execution_count": null,
      "metadata": {
        "id": "gTOrOaGrI4Rc",
        "colab": {
          "base_uri": "https://localhost:8080/"
        },
        "outputId": "c1bae38c-4522-4570-f6d0-ae54787dae0f"
      },
      "outputs": [
        {
          "output_type": "execute_result",
          "data": {
            "text/plain": [
              "Date                         0\n",
              "Rented Bike Count            0\n",
              "Hour                         0\n",
              "Temperature(°C)              0\n",
              "Humidity(%)                  0\n",
              "Wind speed (m/s)             0\n",
              "Visibility (10m)             0\n",
              "Dew point temperature(°C)    0\n",
              "Solar Radiation (MJ/m2)      0\n",
              "Rainfall(mm)                 0\n",
              "Snowfall (cm)                0\n",
              "Seasons                      0\n",
              "Holiday                      0\n",
              "Functioning Day              0\n",
              "dtype: int64"
            ]
          },
          "metadata": {},
          "execution_count": 10
        }
      ],
      "source": [
        "# Cheking for null values \n",
        "bike_df.isna().sum(axis = 0)"
      ]
    },
    {
      "cell_type": "code",
      "execution_count": null,
      "metadata": {
        "id": "_MHab1KPPsuF",
        "colab": {
          "base_uri": "https://localhost:8080/"
        },
        "outputId": "bc14258a-b4a4-41df-a825-2df031c2d4c9"
      },
      "outputs": [
        {
          "output_type": "display_data",
          "data": {
            "text/plain": [
              "<Figure size 1080x360 with 2 Axes>"
            ],
            "image/png": "[encoded data removed]"
          },
          "metadata": {
            "needs_background": "light"
          }
        }
      ],
      "source": [
        "# Checking missing values\n",
        "plt.figure(figsize=(15, 5))\n",
        "sns.heatmap(bike_df.isnull(), cbar=True, yticklabels=False)\n",
        "plt.xlabel(\"column_name\", size=14, weight=\"bold\")\n",
        "plt.title(\"missing values in column\",fontweight=\"bold\",size=17)\n",
        "plt.show()"
      ]
    },
    {
      "cell_type": "markdown",
      "metadata": {
        "id": "AjcVGxZnNRQg"
      },
      "source": [
        "Some insights:-\n",
        "1. There exists no null values."
      ]
    },
    {
      "cell_type": "markdown",
      "metadata": {
        "id": "u4x8khwGOfhv"
      },
      "source": [
        "## Duplicate values check"
      ]
    },
    {
      "cell_type": "code",
      "execution_count": null,
      "metadata": {
        "id": "CtIKl6YcLXP5",
        "colab": {
          "base_uri": "https://localhost:8080/"
        },
        "outputId": "caab8963-cb22-4615-c385-764894e7b34b"
      },
      "outputs": [
        {
          "output_type": "execute_result",
          "data": {
            "text/plain": [
              "0"
            ]
          },
          "metadata": {},
          "execution_count": 12
        }
      ],
      "source": [
        "# Checking for duplicate values\n",
        "len(df[bike_df.duplicated()])"
      ]
    },
    {
      "cell_type": "markdown",
      "metadata": {
        "id": "HbriXcK0OPfm"
      },
      "source": [
        "Some insights:-\n",
        "1. There are no duplicate instances."
      ]
    },
    {
      "cell_type": "code",
      "execution_count": null,
      "metadata": {
        "id": "zY0wo6twMufb",
        "colab": {
          "base_uri": "https://localhost:8080/"
        },
        "outputId": "c400f54d-6389-48e8-82cf-88e55ee855f3"
      },
      "outputs": [
        {
          "output_type": "execute_result",
          "data": {
            "text/plain": [
              "8760"
            ]
          },
          "metadata": {},
          "execution_count": 13
        }
      ],
      "source": [
        "bike_df.shape[0]"
      ]
    },
    {
      "cell_type": "markdown",
      "metadata": {
        "id": "YUI6am2CXu9l"
      },
      "source": [
        "# **DATA PREPRATION FOR EDA**"
      ]
    },
    {
      "cell_type": "markdown",
      "metadata": {
        "id": "a6-tWM6r8O2P"
      },
      "source": [
        "## 1. Renaming all Columns"
      ]
    },
    {
      "cell_type": "code",
      "execution_count": null,
      "metadata": {
        "id": "t4WS3Mmw8ODO"
      },
      "outputs": [],
      "source": [
        "#Rename the complex columns name\n",
        "bike_df=bike_df.rename(columns={'Date' : 'date',\n",
        "                                'Rented Bike Count':'rented_bike_count',\n",
        "                                'Hour' : 'hour',\n",
        "                                'Seasons': 'season',\n",
        "                                'Holiday': 'holiday',\n",
        "                                'Temperature(°C)':'temperature',\n",
        "                                'Humidity(%)':'humidity',\n",
        "                                'Wind speed (m/s)':'wind_speed',\n",
        "                                'Visibility (10m)':'visibility',\n",
        "                                'Dew point temperature(°C)':'dew_point_temperature',\n",
        "                                'Solar Radiation (MJ/m2)':'solar_radiation',\n",
        "                                'Rainfall(mm)':'rainfall',\n",
        "                                'Snowfall (cm)':'snowfall',\n",
        "                                'Functioning Day':'functioning_day'})"
      ]
    },
    {
      "cell_type": "markdown",
      "metadata": {
        "id": "meV2vfOWX1f3"
      },
      "source": [
        "## 2. Creating New columns for Day, Day of week, Month and Year."
      ]
    },
    {
      "cell_type": "code",
      "execution_count": null,
      "metadata": {
        "id": "L5fNK9FEdKQJ"
      },
      "outputs": [],
      "source": [
        "# converting the date time column into DateTime format for further usage\n",
        "bike_df['date'] = pd.to_datetime(bike_df['date'], format=\"%d/%m/%Y\")\n",
        "\n",
        "# Creating 4 new columns - Year, Month , Day , Day of week.\n",
        "bike_df['year'] = bike_df['date'].dt.year\n",
        "bike_df['month'] = bike_df['date'].dt.month_name()\n",
        "bike_df['day'] = bike_df['date'].dt.day\n",
        "bike_df['day_of_week'] = bike_df['date'].dt.day_name()\n"
      ]
    },
    {
      "cell_type": "markdown",
      "metadata": {
        "id": "ADUkGNJ0E2WA"
      },
      "source": [
        "## 3. Creating New columns for weekdays and weekend."
      ]
    },
    {
      "cell_type": "code",
      "execution_count": null,
      "metadata": {
        "id": "wmr7KWK7E4Dk"
      },
      "outputs": [],
      "source": [
        "# We are creating a new column is_weekend which contains 1 if yes(saturday/sunday) else it contains 0 to represent weekdays\n",
        "bike_df['weekend_or_not']=bike_df['day_of_week'].apply(lambda x : 1 if x=='Saturday' or x=='Sunday' else 0 )\n",
        "\n",
        "# this column will state it as weekday or weekend, we will use it just for EDA\n",
        "bike_df['weekendvsWeekday']=bike_df['day_of_week'].apply(lambda x : 'weekends' if x=='Saturday' or x=='Sunday' else 'weekdays' )\n"
      ]
    },
    {
      "cell_type": "markdown",
      "metadata": {
        "id": "kFQdevVZIW4L"
      },
      "source": [
        "# **EDA**"
      ]
    },
    {
      "cell_type": "code",
      "execution_count": null,
      "metadata": {
        "id": "Hj8oI1kNmWcU",
        "colab": {
          "base_uri": "https://localhost:8080/",
          "height": 357
        },
        "outputId": "68ee3dfd-cbbd-4a0b-a47c-c02a55e6ad03"
      },
      "outputs": [
        {
          "output_type": "execute_result",
          "data": {
            "text/plain": [
              "        date  rented_bike_count  hour  temperature  humidity  wind_speed  \\\n",
              "0 2017-12-01                254     0         -5.2        37         2.2   \n",
              "1 2017-12-01                204     1         -5.5        38         0.8   \n",
              "2 2017-12-01                173     2         -6.0        39         1.0   \n",
              "3 2017-12-01                107     3         -6.2        40         0.9   \n",
              "4 2017-12-01                 78     4         -6.0        36         2.3   \n",
              "\n",
              "   visibility  dew_point_temperature  solar_radiation  rainfall  snowfall  \\\n",
              "0        2000                  -17.6              0.0       0.0       0.0   \n",
              "1        2000                  -17.6              0.0       0.0       0.0   \n",
              "2        2000                  -17.7              0.0       0.0       0.0   \n",
              "3        2000                  -17.6              0.0       0.0       0.0   \n",
              "4        2000                  -18.6              0.0       0.0       0.0   \n",
              "\n",
              "   season     holiday functioning_day  year     month  day day_of_week  \\\n",
              "0  Winter  No Holiday             Yes  2017  December    1      Friday   \n",
              "1  Winter  No Holiday             Yes  2017  December    1      Friday   \n",
              "2  Winter  No Holiday             Yes  2017  December    1      Friday   \n",
              "3  Winter  No Holiday             Yes  2017  December    1      Friday   \n",
              "4  Winter  No Holiday             Yes  2017  December    1      Friday   \n",
              "\n",
              "   weekend_or_not weekendvsWeekday  \n",
              "0               0         weekdays  \n",
              "1               0         weekdays  \n",
              "2               0         weekdays  \n",
              "3               0         weekdays  \n",
              "4               0         weekdays  "
            ],
            "text/html": [
              "\n",
              "  <div id=\"df-d2661e2b-fcf9-4eb8-bc53-29989ad1f183\">\n",
              "    <div class=\"colab-df-container\">\n",
              "      <div>\n",
              "<style scoped>\n",
              "    .dataframe tbody tr th:only-of-type {\n",
              "        vertical-align: middle;\n",
              "    }\n",
              "\n",
              "    .dataframe tbody tr th {\n",
              "        vertical-align: top;\n",
              "    }\n",
              "\n",
              "    .dataframe thead th {\n",
              "        text-align: right;\n",
              "    }\n",
              "</style>\n",
              "<table border=\"1\" class=\"dataframe\">\n",
              "  <thead>\n",
              "    <tr style=\"text-align: right;\">\n",
              "      <th></th>\n",
              "      <th>date</th>\n",
              "      <th>rented_bike_count</th>\n",
              "      <th>hour</th>\n",
              "      <th>temperature</th>\n",
              "      <th>humidity</th>\n",
              "      <th>wind_speed</th>\n",
              "      <th>visibility</th>\n",
              "      <th>dew_point_temperature</th>\n",
              "      <th>solar_radiation</th>\n",
              "      <th>rainfall</th>\n",
              "      <th>snowfall</th>\n",
              "      <th>season</th>\n",
              "      <th>holiday</th>\n",
              "      <th>functioning_day</th>\n",
              "      <th>year</th>\n",
              "      <th>month</th>\n",
              "      <th>day</th>\n",
              "      <th>day_of_week</th>\n",
              "      <th>weekend_or_not</th>\n",
              "      <th>weekendvsWeekday</th>\n",
              "    </tr>\n",
              "  </thead>\n",
              "  <tbody>\n",
              "    <tr>\n",
              "      <th>0</th>\n",
              "      <td>2017-12-01</td>\n",
              "      <td>254</td>\n",
              "      <td>0</td>\n",
              "      <td>-5.2</td>\n",
              "      <td>37</td>\n",
              "      <td>2.2</td>\n",
              "      <td>2000</td>\n",
              "      <td>-17.6</td>\n",
              "      <td>0.0</td>\n",
              "      <td>0.0</td>\n",
              "      <td>0.0</td>\n",
              "      <td>Winter</td>\n",
              "      <td>No Holiday</td>\n",
              "      <td>Yes</td>\n",
              "      <td>2017</td>\n",
              "      <td>December</td>\n",
              "      <td>1</td>\n",
              "      <td>Friday</td>\n",
              "      <td>0</td>\n",
              "      <td>weekdays</td>\n",
              "    </tr>\n",
              "    <tr>\n",
              "      <th>1</th>\n",
              "      <td>2017-12-01</td>\n",
              "      <td>204</td>\n",
              "      <td>1</td>\n",
              "      <td>-5.5</td>\n",
              "      <td>38</td>\n",
              "      <td>0.8</td>\n",
              "      <td>2000</td>\n",
              "      <td>-17.6</td>\n",
              "      <td>0.0</td>\n",
              "      <td>0.0</td>\n",
              "      <td>0.0</td>\n",
              "      <td>Winter</td>\n",
              "      <td>No Holiday</td>\n",
              "      <td>Yes</td>\n",
              "      <td>2017</td>\n",
              "      <td>December</td>\n",
              "      <td>1</td>\n",
              "      <td>Friday</td>\n",
              "      <td>0</td>\n",
              "      <td>weekdays</td>\n",
              "    </tr>\n",
              "    <tr>\n",
              "      <th>2</th>\n",
              "      <td>2017-12-01</td>\n",
              "      <td>173</td>\n",
              "      <td>2</td>\n",
              "      <td>-6.0</td>\n",
              "      <td>39</td>\n",
              "      <td>1.0</td>\n",
              "      <td>2000</td>\n",
              "      <td>-17.7</td>\n",
              "      <td>0.0</td>\n",
              "      <td>0.0</td>\n",
              "      <td>0.0</td>\n",
              "      <td>Winter</td>\n",
              "      <td>No Holiday</td>\n",
              "      <td>Yes</td>\n",
              "      <td>2017</td>\n",
              "      <td>December</td>\n",
              "      <td>1</td>\n",
              "      <td>Friday</td>\n",
              "      <td>0</td>\n",
              "      <td>weekdays</td>\n",
              "    </tr>\n",
              "    <tr>\n",
              "      <th>3</th>\n",
              "      <td>2017-12-01</td>\n",
              "      <td>107</td>\n",
              "      <td>3</td>\n",
              "      <td>-6.2</td>\n",
              "      <td>40</td>\n",
              "      <td>0.9</td>\n",
              "      <td>2000</td>\n",
              "      <td>-17.6</td>\n",
              "      <td>0.0</td>\n",
              "      <td>0.0</td>\n",
              "      <td>0.0</td>\n",
              "      <td>Winter</td>\n",
              "      <td>No Holiday</td>\n",
              "      <td>Yes</td>\n",
              "      <td>2017</td>\n",
              "      <td>December</td>\n",
              "      <td>1</td>\n",
              "      <td>Friday</td>\n",
              "      <td>0</td>\n",
              "      <td>weekdays</td>\n",
              "    </tr>\n",
              "    <tr>\n",
              "      <th>4</th>\n",
              "      <td>2017-12-01</td>\n",
              "      <td>78</td>\n",
              "      <td>4</td>\n",
              "      <td>-6.0</td>\n",
              "      <td>36</td>\n",
              "      <td>2.3</td>\n",
              "      <td>2000</td>\n",
              "      <td>-18.6</td>\n",
              "      <td>0.0</td>\n",
              "      <td>0.0</td>\n",
              "      <td>0.0</td>\n",
              "      <td>Winter</td>\n",
              "      <td>No Holiday</td>\n",
              "      <td>Yes</td>\n",
              "      <td>2017</td>\n",
              "      <td>December</td>\n",
              "      <td>1</td>\n",
              "      <td>Friday</td>\n",
              "      <td>0</td>\n",
              "      <td>weekdays</td>\n",
              "    </tr>\n",
              "  </tbody>\n",
              "</table>\n",
              "</div>\n",
              "      <button class=\"colab-df-convert\" onclick=\"convertToInteractive('df-d2661e2b-fcf9-4eb8-bc53-29989ad1f183')\"\n",
              "              title=\"Convert this dataframe to an interactive table.\"\n",
              "              style=\"display:none;\">\n",
              "        \n",
              "  <svg xmlns=\"http://www.w3.org/2000/svg\" height=\"24px\"viewBox=\"0 0 24 24\"\n",
              "       width=\"24px\">\n",
              "    <path d=\"M0 0h24v24H0V0z\" fill=\"none\"/>\n",
              "    <path d=\"M18.56 5.44l.94 2.06.94-2.06 2.06-.94-2.06-.94-.94-2.06-.94 2.06-2.06.94zm-11 1L8.5 8.5l.94-2.06 2.06-.94-2.06-.94L8.5 2.5l-.94 2.06-2.06.94zm10 10l.94 2.06.94-2.06 2.06-.94-2.06-.94-.94-2.06-.94 2.06-2.06.94z\"/><path d=\"M17.41 7.96l-1.37-1.37c-.4-.4-.92-.59-1.43-.59-.52 0-1.04.2-1.43.59L10.3 9.45l-7.72 7.72c-.78.78-.78 2.05 0 2.83L4 21.41c.39.39.9.59 1.41.59.51 0 1.02-.2 1.41-.59l7.78-7.78 2.81-2.81c.8-.78.8-2.07 0-2.86zM5.41 20L4 18.59l7.72-7.72 1.47 1.35L5.41 20z\"/>\n",
              "  </svg>\n",
              "      </button>\n",
              "      \n",
              "  <style>\n",
              "    .colab-df-container {\n",
              "      display:flex;\n",
              "      flex-wrap:wrap;\n",
              "      gap: 12px;\n",
              "    }\n",
              "\n",
              "    .colab-df-convert {\n",
              "      background-color: #E8F0FE;\n",
              "      border: none;\n",
              "      border-radius: 50%;\n",
              "      cursor: pointer;\n",
              "      display: none;\n",
              "      fill: #1967D2;\n",
              "      height: 32px;\n",
              "      padding: 0 0 0 0;\n",
              "      width: 32px;\n",
              "    }\n",
              "\n",
              "    .colab-df-convert:hover {\n",
              "      background-color: #E2EBFA;\n",
              "      box-shadow: 0px 1px 2px rgba(60, 64, 67, 0.3), 0px 1px 3px 1px rgba(60, 64, 67, 0.15);\n",
              "      fill: #174EA6;\n",
              "    }\n",
              "\n",
              "    [theme=dark] .colab-df-convert {\n",
              "      background-color: #3B4455;\n",
              "      fill: #D2E3FC;\n",
              "    }\n",
              "\n",
              "    [theme=dark] .colab-df-convert:hover {\n",
              "      background-color: #434B5C;\n",
              "      box-shadow: 0px 1px 3px 1px rgba(0, 0, 0, 0.15);\n",
              "      filter: drop-shadow(0px 1px 2px rgba(0, 0, 0, 0.3));\n",
              "      fill: #FFFFFF;\n",
              "    }\n",
              "  </style>\n",
              "\n",
              "      <script>\n",
              "        const buttonEl =\n",
              "          document.querySelector('#df-d2661e2b-fcf9-4eb8-bc53-29989ad1f183 button.colab-df-convert');\n",
              "        buttonEl.style.display =\n",
              "          google.colab.kernel.accessAllowed ? 'block' : 'none';\n",
              "\n",
              "        async function convertToInteractive(key) {\n",
              "          const element = document.querySelector('#df-d2661e2b-fcf9-4eb8-bc53-29989ad1f183');\n",
              "          const dataTable =\n",
              "            await google.colab.kernel.invokeFunction('convertToInteractive',\n",
              "                                                     [key], {});\n",
              "          if (!dataTable) return;\n",
              "\n",
              "          const docLinkHtml = 'Like what you see? Visit the ' +\n",
              "            '<a target=\"_blank\" href=https://colab.research.google.com/notebooks/data_table.ipynb>data table notebook</a>'\n",
              "            + ' to learn more about interactive tables.';\n",
              "          element.innerHTML = '';\n",
              "          dataTable['output_type'] = 'display_data';\n",
              "          await google.colab.output.renderOutput(dataTable, element);\n",
              "          const docLink = document.createElement('div');\n",
              "          docLink.innerHTML = docLinkHtml;\n",
              "          element.appendChild(docLink);\n",
              "        }\n",
              "      </script>\n",
              "    </div>\n",
              "  </div>\n",
              "  "
            ]
          },
          "metadata": {},
          "execution_count": 17
        }
      ],
      "source": [
        "bike_df.head()"
      ]
    },
    {
      "cell_type": "markdown",
      "source": [
        "## Ckecking for outliers"
      ],
      "metadata": {
        "id": "k76efctP7v-L"
      }
    },
    {
      "cell_type": "code",
      "source": [
        "# Importing warning\n",
        "import warnings\n",
        "warnings.simplefilter(action='ignore',category=FutureWarning)\n",
        "plt.figure(figsize = (20, 10))\n",
        "num_it = 1 \n",
        "\n",
        "for col in bike_df.describe().columns:\n",
        "    plt.subplot(6,4,num_it)\n",
        "    sns.boxplot(bike_df[col])\n",
        "    num_it+=1\n",
        "    \n",
        "plt.tight_layout()"
      ],
      "metadata": {
        "id": "cCMO2gEd7xag",
        "colab": {
          "base_uri": "https://localhost:8080/"
        },
        "outputId": "1ac90b18-ea9a-4450-860e-5aca48a8e748"
      },
      "execution_count": null,
      "outputs": [
        {
          "output_type": "display_data",
          "data": {
            "text/plain": [
              "<Figure size 1440x720 with 13 Axes>"
            ],
            "image/png": "[encoded data removed]"
          },
          "metadata": {
            "needs_background": "light"
          }
        }
      ]
    },
    {
      "cell_type": "markdown",
      "source": [
        "Some Insights:-\n",
        "1. Rented Bike count contains outliers. Wind Speed, Solar Radiation, Rainfall, and Snowfall contains outliers which wont be a problem"
      ],
      "metadata": {
        "id": "1dR6heQO8KG5"
      }
    },
    {
      "cell_type": "markdown",
      "metadata": {
        "id": "fODRgMJRv4Nj"
      },
      "source": [
        "## 1. Histogram for all columns"
      ]
    },
    {
      "cell_type": "code",
      "execution_count": null,
      "metadata": {
        "id": "5X6HC8kEv7hY",
        "colab": {
          "base_uri": "https://localhost:8080/"
        },
        "outputId": "aa3d4d04-60ae-42e6-9e33-76e5cd3b087c"
      },
      "outputs": [
        {
          "output_type": "display_data",
          "data": {
            "text/plain": [
              "<Figure size 1800x1080 with 16 Axes>"
            ],
            "image/png": "[encoded data removed]"
          },
          "metadata": {
            "needs_background": "light"
          }
        }
      ],
      "source": [
        "# it shows the value distribution in each columns\n",
        "bike_df.hist(figsize=(25,15),color = \"purple\", ec=\"black\")\n",
        "plt.show()"
      ]
    },
    {
      "cell_type": "markdown",
      "metadata": {
        "id": "yrDeroYIMhMO"
      },
      "source": [
        "## 2. Correlation between all features."
      ]
    },
    {
      "cell_type": "code",
      "execution_count": null,
      "metadata": {
        "id": "b5C0WTWqMmk5"
      },
      "outputs": [],
      "source": [
        "# Printing correlation heatmap\n",
        "plt.figure(figsize=(15,8))\n",
        "sns.heatmap(bike_df.corr(),annot=True,cmap=\"YlOrBr\")\n",
        "\n",
        "plt.show()"
      ]
    },
    {
      "cell_type": "markdown",
      "metadata": {
        "id": "VqrpDmlvV3l8"
      },
      "source": [
        "Some insights:-\n",
        "1. Day Hour is highly correlated to Number of bike rented, as the hour increase number of bikes rented alos increase.\n",
        "2. Temperature, dew point and Bike rented count are highly correlated, as temperature and dewpoint increases , bike rented count increase\n",
        "3. Temperature and solar radiation are correlated.\n",
        "4. Wind speed and hour are correlated, as hours increase ina day wind speed also goes up.\n",
        "5. Temperature and dew point are extremely correlated.\n",
        "6. Visibility, solar radiationand Humidity are negatively correlated, as humidity increases, solar radiation and visibility decreases.\n",
        "7. wind speed, solar radiation and visibility are positively correlated. \n",
        "8. Humidity and rainfall are positively correlated, more the rainfall more is the humidity and more the dew point\n",
        "\n",
        "\n",
        "We can say that ***bike rented count*** is positively correlated to these top 6 \n",
        "features in Decending order.\n",
        "1. Temperature..........................- (0.54)\n",
        "3. Hour........................................- (0.41)\n",
        "3. Dew Point Temperature.........- (0.38)\n",
        "4. Solar Radiation.......................- (0.26)\n",
        "5. Visibility...................................- (0.20)\n",
        "6. Win speed................................- (0.12)\n",
        "\n",
        "\n"
      ]
    },
    {
      "cell_type": "markdown",
      "metadata": {
        "id": "Jqv3ObUubQb4"
      },
      "source": [
        "## 3. Does weekend has more rented bike count or weekdays?"
      ]
    },
    {
      "cell_type": "code",
      "execution_count": null,
      "metadata": {
        "id": "gMuu4cgh-_Rj"
      },
      "outputs": [],
      "source": [
        "# plotting graph to compare total number of bike rented on weekdays vs weekends.\n",
        "\n",
        "weeks=bike_df.groupby('weekendvsWeekday').sum()\n",
        "weeks['rented_bike_count'].plot(kind='bar',figsize=(15,8) , color=['lightcoral','brown'], fontsize= 12)\n",
        "plt.title('Weekend vs Weekdays bike rented count',fontsize=18)\n",
        "plt.xlabel(\"Day of week\", fontsize= 15)\n",
        "plt.ylabel(\" Total number of bikes rented\", fontsize= 15)\n",
        "\n",
        "# Printing values\n",
        "weeks[weeks.columns[0:1]]\n"
      ]
    },
    {
      "cell_type": "markdown",
      "metadata": {
        "id": "tq52JLBub-kn"
      },
      "source": [
        "Some insights:-\n",
        "1. We have more bookings on weekdays combined vs weekend \n",
        "\n"
      ]
    },
    {
      "cell_type": "markdown",
      "metadata": {
        "id": "iX-Vw41yf4wg"
      },
      "source": [
        "## 4. Which one has more bike rented counts: weekend or weekdays?"
      ]
    },
    {
      "cell_type": "code",
      "execution_count": null,
      "metadata": {
        "id": "ONz8iV4RboYj"
      },
      "outputs": [],
      "source": [
        "# Taking number of bike rented count for weedays and weekend \n",
        "weeksavg=bike_df.groupby('weekendvsWeekday').sum()\n",
        "\n",
        "# Now taking mean of bike rented for a day weekend and weekdays\n",
        "\n",
        "weeksavg['rented_bike_count'][0]= weeksavg['rented_bike_count'][0]*(1/5)\n",
        "weeksavg['rented_bike_count'][1]= weeksavg['rented_bike_count'][1]*(1/2)\n",
        "\n",
        "# Plotting the graph\n",
        "weeksavg['rented_bike_count'].plot(kind='bar',figsize=(15,8), color= 'cyan' , fontsize=12)\n",
        "plt.title('Weekend vs Weekdays bike rented count',fontsize=18)\n",
        "plt.xlabel(\"Day of week\", fontsize= 15)\n",
        "plt.ylabel(\"Number of bikes rented on a day\", fontsize= 15)\n",
        "\n",
        "# Printing average number bike rented on weekdays and weekend\n",
        "weeksavg[weeksavg.columns[0:1]]\n",
        "\n",
        "\n"
      ]
    },
    {
      "cell_type": "markdown",
      "metadata": {
        "id": "xyrD8pj8Y0u8"
      },
      "source": [
        "Some insights:- \n",
        "1. On Weekdays on average 901325 bikes are rented\n",
        "2. On Weekends on average 832843 bikes are rented\n"
      ]
    },
    {
      "cell_type": "markdown",
      "metadata": {
        "id": "E4qISbc7US1N"
      },
      "source": [
        "## 5. Average Bike Rented Count every Month"
      ]
    },
    {
      "cell_type": "code",
      "execution_count": null,
      "metadata": {
        "id": "azqXfMZeyjzN"
      },
      "outputs": [],
      "source": [
        "# Creating data set which has all features grouped by accordind to month\n",
        "month_eda=bike_df.groupby('month').sum()\n",
        "month_eda= month_eda.reset_index()\n",
        "\n",
        "month_eda[month_eda.columns[0:2]]"
      ]
    },
    {
      "cell_type": "code",
      "execution_count": null,
      "metadata": {
        "id": "aqMlfoJW5qxa"
      },
      "outputs": [],
      "source": [
        "# plotting graph to get monthly total number of bike rented \n",
        "fig,ax=plt.subplots(figsize=(15,8))\n",
        "sns.barplot( data=month_eda, x='month', y='rented_bike_count' ,color = 'red', hue_order='blue', ci=None, order=['January','February','March','April','May','June','July','August','September','October','November','December'])\n",
        "ax.set_title('Rented bikes per day Vs Month ' , fontsize=18)\n",
        "ax.set_xlabel('Months',fontsize=15)\n",
        "ax.set_ylabel('Number of Rented bikes per day',fontsize=15)"
      ]
    },
    {
      "cell_type": "markdown",
      "metadata": {
        "id": "2RE_tX3j7WEl"
      },
      "source": [
        "Some insights:-\n",
        "1. Top 3 months where most bikes were rented are June, July and May.\n",
        "2. Peak periods when maximum bikes were rented is from May to October.\n",
        "3. The month in which least bikes were rented is January(150006) followed by  February(151833) and December(185330).\n",
        "   \n"
      ]
    },
    {
      "cell_type": "markdown",
      "metadata": {
        "id": "cTh5VJx391JA"
      },
      "source": [
        "## 6. Bike Rented Hour Wise."
      ]
    },
    {
      "cell_type": "code",
      "execution_count": null,
      "metadata": {
        "id": "eyGXN5Md-Oyy"
      },
      "outputs": [],
      "source": [
        "# Creating data set which has all features grouped by accordind to hour\n",
        "\n",
        "hour_eda=bike_df.groupby('hour').sum()\n",
        "\n",
        "# Plotting graph\n",
        "hour_eda['rented_bike_count'].plot(kind='bar',figsize=(15,8) ,fontsize=12, color=['darkblue','mediumblue', 'blue', 'royalblue', 'cornflowerblue', 'lightsteelblue'])\n",
        "plt.title('Weekend vs Weekdays bike rented count',fontsize=18)\n",
        "plt.xlabel(\"Hour\", fontsize= 15)\n",
        "plt.ylabel(\"Number of bikes rented\", fontsize= 15)\n",
        "\n",
        "hour_eda[hour_eda.columns[0:1]]"
      ]
    },
    {
      "cell_type": "markdown",
      "metadata": {
        "id": "dGHGgJLsBMjO"
      },
      "source": [
        "Some insights:-\n",
        "1. Maximum number of bikes rented on average is in the 18th hour followed by 19th hour and 17th hour.\n",
        "2. Peak period for bike rented count is from15th hour to 22nd hour, there is a slight increment in the 8th hour also.\n",
        "3. Minimum bikes were rented in 4th and 5th hour."
      ]
    },
    {
      "cell_type": "markdown",
      "metadata": {
        "id": "fozYljKtB3iW"
      },
      "source": [
        "## 7. How many bikes were rented on non-functioning day vs functioning day."
      ]
    },
    {
      "cell_type": "code",
      "execution_count": null,
      "metadata": {
        "id": "vulFejF1B5oz"
      },
      "outputs": [],
      "source": [
        "# Creating data set which has all features grouped by accordind to functioning day\n",
        "\n",
        "func_eda=bike_df.groupby('functioning_day').sum()\n",
        "\n",
        "# Plotting graph\n",
        "func_eda['rented_bike_count'].plot(kind='bar',figsize=(15,8) , color=['orange'], fontsize= 12)\n",
        "plt.title('Functioning day vs non-functioning day bike rented count',fontsize=18)\n",
        "plt.xlabel(\"Was it a functioning day\",fontsize= 15)\n",
        "plt.ylabel(\"Number of bikes rented in total\", fontsize= 15)\n",
        "\n",
        "\n",
        "func_eda[func_eda.columns[0:1]]"
      ]
    },
    {
      "cell_type": "markdown",
      "metadata": {
        "id": "c9Gz9p8_C8vW"
      },
      "source": [
        "Some insights:-\n",
        "1. We can see that no bikes were rented on Non-functioning day"
      ]
    },
    {
      "cell_type": "markdown",
      "metadata": {
        "id": "Gsu0A0NXEnfp"
      },
      "source": [
        "## 8. Season wise bike rent count"
      ]
    },
    {
      "cell_type": "code",
      "execution_count": null,
      "metadata": {
        "id": "nKHqGnnjE6pQ"
      },
      "outputs": [],
      "source": [
        "# Creating data set which has all features grouped by accordind to season\n",
        "season_eda=bike_df.groupby('season').sum()\n",
        "season_eda= season_eda.reset_index()\n",
        "\n",
        "# plotting graph to get monthly total number of bike rented \n",
        "fig,ax=plt.subplots(figsize=(15,8))\n",
        "sns.barplot( data=season_eda, x='season', y='rented_bike_count' , ci=None, palette = \"rocket\")\n",
        "ax.set_title('Number of Rented bikes bikes Vs Season ' , fontsize=18)\n",
        "ax.set_xlabel('Season',fontsize=15)\n",
        "ax.set_ylabel('NUmber of Rented bikes',fontsize=15)\n",
        "\n",
        "season_eda[season_eda.columns[0:2]]"
      ]
    },
    {
      "cell_type": "markdown",
      "metadata": {
        "id": "61ONpGPfHI93"
      },
      "source": [
        "Some insights:-\n",
        "1. We can see that there are very high demand for bike on rent in summer season , followed by autumn.\n",
        "2. Least numbers of bike were rented in winter season, that maybe because of cold and snow."
      ]
    },
    {
      "cell_type": "markdown",
      "metadata": {
        "id": "wHfSwstfHzfj"
      },
      "source": [
        "## 9. Hour wise bike rent count for each season."
      ]
    },
    {
      "cell_type": "code",
      "execution_count": null,
      "metadata": {
        "id": "f6ItlLk1IUrj"
      },
      "outputs": [],
      "source": [
        "# Creating data set which has all features grouped by accordind to season\n",
        "season_hour_eda=bike_df.groupby(['hour','season']).sum()\n",
        "season_hour_eda= season_hour_eda.reset_index()\n",
        "\n",
        "# Plotting the data on graph\n",
        "fig,ax=plt.subplots(figsize=(15,8))\n",
        "sns.pointplot(data=season_hour_eda,x='hour',y='rented_bike_count',hue='season',palette = \"Paired\")\n",
        "ax.set_title('Bike rent count for each season ' , fontsize=18)\n",
        "ax.set_xlabel('Hour',fontsize=15)\n",
        "ax.set_ylabel('Number of Rented bikes',fontsize=15)\n",
        "\n",
        "season_hour_eda[season_hour_eda.columns[0:3]]"
      ]
    },
    {
      "cell_type": "markdown",
      "metadata": {
        "id": "_dqwMhNXMgEQ"
      },
      "source": [
        "Some insights:-\n",
        "1. In Summer(green), Peak is at 18th hour and least is at 4th and 5th hour, and it has highest number of rented bike\n",
        "2. In Autumn(blue), Peak is at 18th hour and least is at 4th and 5th hour.\n",
        "3. In Spring(yellow), Peak is at 18th hour and least is at 4th and 5th hour.\n",
        "4. In winter(red), Peak is at 18th hour and least is at 4th and 5th hour, it has least number of bikes rented\n",
        "5. We see almost similar trent in Autumn, Summer and Spring. There values are close to each other.\n"
      ]
    },
    {
      "cell_type": "markdown",
      "metadata": {
        "id": "HarJ21Kwdqvv"
      },
      "source": [
        "## 10. Snowfall affect on total bike rent count"
      ]
    },
    {
      "cell_type": "code",
      "execution_count": null,
      "metadata": {
        "id": "aOtfz6YjY9X2"
      },
      "outputs": [],
      "source": [
        "# Creating data set which has all features grouped by accordind to Snowfall(cm)\n",
        "snowfall_eda= bike_df.groupby(['snowfall' ]).sum()\n",
        "snowfall_eda= snowfall_eda.reset_index()\n",
        "\n",
        "\n",
        "\n",
        "# Plotting the data on Lograthmic graph\n",
        "fig,ax=plt.subplots(figsize=(15,8))\n",
        "sns.pointplot( data=snowfall_eda, x='snowfall',y='rented_bike_count',ax=ax  )\n",
        "ax.set_yscale(\"log\")\n",
        "ax.set_title('Bike rent count with respect to Snowfall(cm) ' , fontsize=18)\n",
        "ax.set_xlabel('Snowfall(cm)',fontsize=15)\n",
        "ax.set_ylabel('Number of Rented bikes',fontsize=15)\n",
        "\n",
        "\n",
        "# Printing top 5 data points which are in acending order.\n",
        "snowfall_eda[snowfall_eda.columns[0:2]].head(5)\n"
      ]
    },
    {
      "cell_type": "markdown",
      "metadata": {
        "id": "3-1eT746pZGE"
      },
      "source": [
        "Some insights:-\n",
        "1. Above graph is in Lograthmic Y-axis Scale.\n",
        "2. As the Snowfall increases, the bike rent count decreases. \n"
      ]
    },
    {
      "cell_type": "markdown",
      "metadata": {
        "id": "mNf0_CnlzetT"
      },
      "source": [
        "## 11. Affect of Rainfall on Bike rent count."
      ]
    },
    {
      "cell_type": "code",
      "execution_count": null,
      "metadata": {
        "id": "Upa7_KE9zmI2"
      },
      "outputs": [],
      "source": [
        "# Creating data set which has all features grouped by accordind to Rainfall(mm)\n",
        "rainfall_eda= bike_df.groupby(['rainfall']).sum()\n",
        "rainfall_eda= rainfall_eda.reset_index()\n",
        "\n",
        "\n",
        "\n",
        "# Plotting the data on Lograthmic graph\n",
        "rainfall_eda['rented_bike_count'].plot(kind='line',figsize=(15,8) , color='crimson')\n",
        "plt.title('Bike rent count with respect to Rainfall(mm)',fontsize=18)\n",
        "plt.yscale(\"log\")\n",
        "plt.xlabel('Rainfall(mm)', fontsize= 15)\n",
        "plt.ylabel('Number of Rented bikes', fontsize= 15)\n",
        "\n",
        "\n",
        "# Printing top 5 data points which are in acending order.\n",
        "rainfall_eda[rainfall_eda.columns[0:2]].head(5)\n"
      ]
    },
    {
      "cell_type": "markdown",
      "metadata": {
        "id": "I28Wnkzw0Px3"
      },
      "source": [
        "Some insights:-\n",
        "1. Above graph is in Lograthmic Y-axis Scale.\n",
        "2. As the Rainfall(mm) increases, the bike rent count decreases. \n"
      ]
    },
    {
      "cell_type": "markdown",
      "metadata": {
        "id": "_lZKF7s50six"
      },
      "source": [
        "## 12. Affect of Solar radiation on Bike rented count"
      ]
    },
    {
      "cell_type": "code",
      "execution_count": null,
      "metadata": {
        "id": "kF98GiAf0wGe"
      },
      "outputs": [],
      "source": [
        "# Creating data set which has all features grouped by accordind to Solar Radiation(MJ/m²)\n",
        "solar_eda= bike_df.groupby(['solar_radiation']).sum()\n",
        "solar_eda= solar_eda.reset_index()\n",
        "\n",
        "\n",
        "\n",
        "# Plotting the data on Lograthmic graph\n",
        "\n",
        "solar_eda['rented_bike_count'].plot(kind='line',figsize=(15,8) , color='darkorange')\n",
        "plt.title('Bike rent count with respect to Solar Radiation(MJ/m²)',fontsize=18)\n",
        "plt.yscale(\"log\")\n",
        "plt.xlabel('Solar Radiation(MJ/m²)', fontsize= 15)\n",
        "plt.ylabel('Number of Rented bikes', fontsize= 15)\n",
        "\n",
        "\n",
        "\n",
        "# Printing top 5 data points which are in acending order.\n",
        "solar_eda[solar_eda.columns[0:2]].head(5)\n"
      ]
    },
    {
      "cell_type": "markdown",
      "metadata": {
        "id": "kIGlnwop1wkr"
      },
      "source": [
        "Some insights:-\n",
        "1. Above graph is in Lograthmic Y-axis Scale.\n",
        "2. As the Solar Radiation(MJ/m²) increases, the bike rent count decreases rapidly(log scale). "
      ]
    },
    {
      "cell_type": "markdown",
      "metadata": {
        "id": "kTbb5wunp8tA"
      },
      "source": [
        "## 13. Bike Rent count with respect to temperature.\n"
      ]
    },
    {
      "cell_type": "code",
      "execution_count": null,
      "metadata": {
        "id": "H8yCHZatehq0"
      },
      "outputs": [],
      "source": [
        "# Creating data set which has all features grouped by accordind to Temperature\n",
        "temp_eda= bike_df.groupby(['temperature' ]).sum()\n",
        "# temp_eda= temp_eda.reset_index()\n",
        "\n",
        "# Plotting graph\n",
        "temp_eda['rented_bike_count'].plot(kind='line',figsize=(15,8) , color='darkorange')\n",
        "plt.title('Bike rent count with respect to Temperature(°C)',fontsize=18)\n",
        "plt.xlabel(\"Temperature(°C)\", fontsize= 15)\n",
        "plt.ylabel(\"Number of bikes rented\", fontsize= 15)\n",
        "\n",
        "\n",
        "# Printing top 5 data points which are in acending order.\n",
        "temp_eda[temp_eda.columns[0:1]].head()\n"
      ]
    },
    {
      "cell_type": "code",
      "execution_count": null,
      "metadata": {
        "id": "JaESyEbl5W1n"
      },
      "outputs": [],
      "source": [
        "# Temperature at which max bikes were rented.\n",
        "temp_eda= temp_eda.reset_index()\n",
        "max_temp_rent= temp_eda['temperature'][temp_eda['rented_bike_count'].argmax()]\n",
        "min_temp_rent= temp_eda['temperature'][temp_eda['rented_bike_count'].argmin()]\n",
        "print('Temperature at which maximum bikes were rented is: ',max_temp_rent  )\n",
        "print('Temperature at which minimum bikes were rented is: ',min_temp_rent )"
      ]
    },
    {
      "cell_type": "markdown",
      "metadata": {
        "id": "ZsbK85hFwOP_"
      },
      "source": [
        "Some insights:-\n",
        "1. We can see only at an optimal temperature maximum number of bikes were rented.\n",
        "2. The peak period is between temperature 15°C to 28°C.\n",
        "3. Temperature at which maximum bikes were rented is 23.4°C.\n",
        "4. Temperature at which minimum bikes were rented is -16.9°C."
      ]
    },
    {
      "cell_type": "markdown",
      "metadata": {
        "id": "751_3WyV6EFj"
      },
      "source": [
        "## 14. Bike Rent count with respect to Humidity.\n"
      ]
    },
    {
      "cell_type": "code",
      "execution_count": null,
      "metadata": {
        "id": "62Vy1_u34TOH"
      },
      "outputs": [],
      "source": [
        "# Creating data set which has all features grouped by accordind to humidity\n",
        "humid_eda= bike_df.groupby(['humidity' ]).sum()\n",
        "\n",
        "\n",
        "# Plotting graph\n",
        "humid_eda['rented_bike_count'].plot(kind='line',figsize=(15,8) , color='darkorange')\n",
        "plt.title('Bike rent count with respect to Humidity(%)',fontsize=18)\n",
        "plt.xlabel(\"Humidity(%)\", fontsize= 15)\n",
        "plt.ylabel(\"Number of bikes rented\", fontsize= 15)\n",
        "\n",
        "\n",
        "# Printing top 5 data points which are in acending order.\n",
        "humid_eda[humid_eda.columns[0:1]].head()\n"
      ]
    },
    {
      "cell_type": "code",
      "execution_count": null,
      "metadata": {
        "id": "Wkxlveb37HQ_"
      },
      "outputs": [],
      "source": [
        "# Humidity at which max bikes were rented.\n",
        "humid_eda= humid_eda.reset_index()\n",
        "max_humid_rent= humid_eda['humidity'][humid_eda['rented_bike_count'].argmax()]\n",
        "min_humid_rent= humid_eda['humidity'][humid_eda['rented_bike_count'].argmin()]\n",
        "print('Humidity % at which maximum bikes were rented is: ',max_humid_rent  )\n",
        "print('Humidity % at which minimum bikes were rented is: ',min_humid_rent )"
      ]
    },
    {
      "cell_type": "markdown",
      "metadata": {
        "id": "R-fBe2GO61No"
      },
      "source": [
        "Some insights:-\n",
        "1. We can see only at an optimal Humidity percentage, maximum number of bikes were rented.\n",
        "2. Most appropriate humidity percentage is between 30% to 80%.\n",
        "3. Humidity at which maximum bikes were rented is 43%.\n",
        "4. Humidity at which minimum bikes were rented is 10%."
      ]
    },
    {
      "cell_type": "markdown",
      "metadata": {
        "id": "AA_O3rou76VN"
      },
      "source": [
        "## 15. Affect of Visibility on number of Bikes rented. "
      ]
    },
    {
      "cell_type": "code",
      "execution_count": null,
      "metadata": {
        "id": "FTgtoX3D6ok-"
      },
      "outputs": [],
      "source": [
        "# Creating data set which has all features grouped by accordind to Visibility(*10m)\n",
        "visib_eda= bike_df.groupby(['visibility' ]).sum()\n",
        "\n",
        "\n",
        "# Plotting graph\n",
        "visib_eda['rented_bike_count'].plot(kind='line',figsize=(15,8) , color='darkorange')\n",
        "plt.title('Bike rent count with respect to Visibility(10m)',fontsize=18)\n",
        "plt.yscale(\"log\")\n",
        "plt.xlabel(\"Visibility(10m)\", fontsize= 15)\n",
        "plt.ylabel(\"Number of bikes rented\", fontsize= 15)\n",
        "\n",
        "\n",
        "# Printing top 5 data points which are in acending order.\n",
        "visib_eda[visib_eda.columns[0:1]].head()\n"
      ]
    },
    {
      "cell_type": "code",
      "execution_count": null,
      "metadata": {
        "id": "0kjtbrWr8D2V"
      },
      "outputs": [],
      "source": [
        "# Visibility at which max bikes were rented.\n",
        "visib_eda= visib_eda.reset_index()\n",
        "max_visib_rent= visib_eda['visibility'][visib_eda['rented_bike_count'].argmax()]\n",
        "min_visib_rent= visib_eda['visibility'][visib_eda['rented_bike_count'].argmin()]\n",
        "print('Visibility % at which maximum bikes were rented is: ',max_visib_rent  )\n",
        "print('Visibility % at which minimum bikes were rented is: ',min_visib_rent )"
      ]
    },
    {
      "cell_type": "markdown",
      "metadata": {
        "id": "KQBMXAIk8Ha9"
      },
      "source": [
        "Some insights:-\n",
        "1. We can see as the visibility increases so the number of bike which are rented.\n",
        "2. Visibility at which maximum bikes were rented is 20000 Meters"
      ]
    },
    {
      "cell_type": "markdown",
      "metadata": {
        "id": "4u3ZSA4E9--1"
      },
      "source": [
        "## 16. Affect of Wind speed on Number of bike rented."
      ]
    },
    {
      "cell_type": "code",
      "execution_count": null,
      "metadata": {
        "id": "6NMsuFKa82hB"
      },
      "outputs": [],
      "source": [
        "# Creating data set which has all features grouped by accordind to Wind Speed (m/s)\n",
        "wind_eda= bike_df.groupby(['wind_speed' ]).sum()\n",
        "\n",
        "\n",
        "# Plotting graph\n",
        "wind_eda['rented_bike_count'].plot(kind='line',figsize=(15,8) , color='darkorange')\n",
        "plt.title('Bike rent count with respect to Wind Speed (m/s)',fontsize=18)\n",
        "plt.yscale(\"log\")\n",
        "plt.xlabel(\"Wind Speed (m/s)\", fontsize= 15)\n",
        "plt.ylabel(\"Number of bikes rented\", fontsize= 15)\n",
        "\n",
        "\n",
        "# Printing top 5 data points which are in acending order.\n",
        "wind_eda[wind_eda.columns[0:1]].head()\n"
      ]
    },
    {
      "cell_type": "code",
      "execution_count": null,
      "metadata": {
        "id": "k9-GYH3W-ls3"
      },
      "outputs": [],
      "source": [
        "# Visibility at which max bikes were rented.\n",
        "wind_eda= wind_eda.reset_index()\n",
        "max_wind_rent= wind_eda['wind_speed'][wind_eda['rented_bike_count'].argmax()]\n",
        "min_wind_rent= wind_eda['wind_speed'][wind_eda['rented_bike_count'].argmin()]\n",
        "print('Wind Speed(m/s) at which maximum bikes were rented is: ',max_wind_rent  )\n",
        "print('Wind Speed(m/s) at which minimum bikes were rented is: ',min_wind_rent )"
      ]
    },
    {
      "cell_type": "markdown",
      "metadata": {
        "id": "aWz8dJ0q_C4r"
      },
      "source": [
        "Some insights:-\n",
        "1. We can see as the Wind Speed(m/s) increases the number of bike which are rented decreases.\n",
        "2. Wind Speed(m/s) at which maximum bikes were rented is 1.4 m/s.\n",
        "3. Wind Speed(m/s) at which minimum bikes were rented is 6.9 m/s."
      ]
    },
    {
      "cell_type": "code",
      "execution_count": null,
      "metadata": {
        "id": "8d3doQ3d-eA0"
      },
      "outputs": [],
      "source": []
    },
    {
      "cell_type": "markdown",
      "metadata": {
        "id": "vQSDSmkeSUip"
      },
      "source": [
        "## 17. Bike rent count on holidays vs Non-holidays"
      ]
    },
    {
      "cell_type": "code",
      "execution_count": null,
      "metadata": {
        "id": "FJUP9X0nSc5I"
      },
      "outputs": [],
      "source": [
        "# Creating data set which has all features grouped by accordind to Wind Speed (m/s)\n",
        "holiday_eda= bike_df.groupby(['holiday' ]).sum()\n",
        "\n",
        "\n",
        "# # Plotting graph\n",
        "holiday_eda['rented_bike_count'].plot(kind='pie',figsize=(15,8), autopct='%1.1f%%')\n",
        "plt.title('Bike rent count with respect Holiday and Non-holiday',fontsize=18)\n",
        "plt.ylabel(\" \", fontsize= 15)\n",
        "\n",
        "\n",
        "# Printing top 5 data points which are in acending order.\n",
        "holiday_eda[holiday_eda.columns[0:1]].head()\n"
      ]
    },
    {
      "cell_type": "markdown",
      "source": [
        "Some Insights:-\n",
        "1. We have only 3.5% of total rented bikes count on Holiday, majority of bikes were rented on working days(not-holiday)."
      ],
      "metadata": {
        "id": "E5aYZhQLF27o"
      }
    },
    {
      "cell_type": "markdown",
      "source": [
        "## 18. Rented bike count on each day of a week"
      ],
      "metadata": {
        "id": "gCqwbcopFuRN"
      }
    },
    {
      "cell_type": "code",
      "source": [
        "# Creating data set which has all features grouped by accordind to Wind Speed (m/s)\n",
        "day_of_week_eda= bike_df.groupby(['day_of_week']).sum()\n",
        "\n",
        "\n",
        "# Plotting graph\n",
        "day_of_week_eda['rented_bike_count'].plot(kind='pie',figsize=(15,8), autopct='%1.1f%%')\n",
        "plt.title('Bike rent count on each day of a week',fontsize=18)\n",
        "plt.ylabel(\" \", fontsize= 15)\n",
        "\n",
        "\n",
        "# Printing top 5 data points which are in acending order.\n",
        "day_of_week_eda[day_of_week_eda.columns[0:1]].head()"
      ],
      "metadata": {
        "id": "H_i910ACCkfH"
      },
      "execution_count": null,
      "outputs": []
    },
    {
      "cell_type": "markdown",
      "source": [
        "Some Insights:-\n",
        "1. Maximum bikes were rented on Friday(15.4%), On second place we have Wednesday(15.0%) and than Monday(14.8%)."
      ],
      "metadata": {
        "id": "3XIKt0nYGJ5i"
      }
    },
    {
      "cell_type": "markdown",
      "metadata": {
        "id": "I_Ri5fm3A2GX"
      },
      "source": [
        "# **DATA PREPRATION FOR MODEL TRAINING**"
      ]
    },
    {
      "cell_type": "code",
      "execution_count": null,
      "metadata": {
        "id": "AC2iJHSTKbWL"
      },
      "outputs": [],
      "source": [
        "bike_df.head()"
      ]
    },
    {
      "cell_type": "markdown",
      "metadata": {
        "id": "h8jkh-BJB8Yd"
      },
      "source": [
        "## 1. Deleting Unuseful data."
      ]
    },
    {
      "cell_type": "code",
      "execution_count": null,
      "metadata": {
        "id": "Ui0iEqGJBsbc"
      },
      "outputs": [],
      "source": [
        "# Droping columns which are not useful.\n",
        "\n",
        "# Created a copy for easy working.\n",
        "bike_df_lr= bike_df.copy(deep=True)\n",
        "\n",
        "#Deleting columns 'date','year','day','day_of_week','weekend_or_not'.\n",
        "bike_df_lr= bike_df_lr.drop(['date','year','day','day_of_week','weekend_or_not'], axis=1)\n",
        "\n",
        "\n"
      ]
    },
    {
      "cell_type": "markdown",
      "metadata": {
        "id": "USOGzCVTOo0i"
      },
      "source": [
        "## 2. Encoding all Categorical Features."
      ]
    },
    {
      "cell_type": "code",
      "execution_count": null,
      "metadata": {
        "id": "aLiCgTPkD3ns"
      },
      "outputs": [],
      "source": [
        "# Using One-hot encoding on followinf columns in the list\n",
        "\n",
        "categorical_columns=['hour', 'season', 'holiday', 'functioning_day', 'month',\n",
        "       'weekendvsWeekday']\n",
        "\n",
        "\n",
        "\n",
        "def encoding(data, column):\n",
        "    data = pd.concat([data, pd.get_dummies(data[column], prefix=column)], axis=1)\n",
        "    data = data.drop([column], axis=1)\n",
        "    return data\n",
        "\n",
        "for col in categorical_columns:\n",
        "    bike_df_lr = encoding(bike_df_lr, col)\n",
        "\n",
        "bike_df_lr.head()"
      ]
    },
    {
      "cell_type": "code",
      "execution_count": null,
      "metadata": {
        "id": "6WP4Q4_0KQFo"
      },
      "outputs": [],
      "source": [
        "# Checking all columns name in our current working dataset\n",
        "bike_df_lr.columns"
      ]
    },
    {
      "cell_type": "markdown",
      "metadata": {
        "id": "McxTjXDxuubQ"
      },
      "source": [
        "## 3. Dealing with outliers"
      ]
    },
    {
      "cell_type": "code",
      "execution_count": null,
      "metadata": {
        "id": "r8PxsIZvyBdx"
      },
      "outputs": [],
      "source": [
        "# Checking for outliers in bike_rented_count, but we will do not remove it now, as we might be transforming out columns later which will help in dealing with outliers.\n",
        "sns.boxplot(x='rented_bike_count', data= bike_df_lr)\n",
        "plt.show()"
      ]
    },
    {
      "cell_type": "markdown",
      "source": [
        "Some Insights:-\n",
        "1. we will be using square root transformation on it, and it will help in removing outliers, so we will not remove outliers in this way!"
      ],
      "metadata": {
        "id": "cCWZyRRvIg2u"
      }
    },
    {
      "cell_type": "markdown",
      "metadata": {
        "id": "kkf7HNKFSH5J"
      },
      "source": [
        "## 4. Analysing all Numeric columns"
      ]
    },
    {
      "cell_type": "code",
      "execution_count": null,
      "metadata": {
        "id": "GyXqg6TkK6M5"
      },
      "outputs": [],
      "source": [
        "# Creating a list of numeric columns\n",
        "\n",
        "numeric_columns =['rented_bike_count', 'temperature', 'humidity', 'wind_speed',\n",
        "       'visibility', 'dew_point_temperature', 'solar_radiation', 'rainfall',\n",
        "       'snowfall']\n",
        "\n",
        "\n",
        "# PLotting displot of numeric features\n",
        "\n",
        "for col in numeric_columns:\n",
        "  plt.figure(figsize=(10,6))\n",
        "  sns.distplot(x=bike_df_lr[col] , color ='darkgreen')\n",
        "  plt.xlabel(col,fontsize= 15 )\n",
        "  plt.axvline(bike_df_lr[col].mean(),color='red', linestyle='solid',linewidth=2)\n",
        "  plt.axvline(bike_df_lr[col].median(),color='blue', linestyle='dashed',linewidth=2)\n",
        "  plt.show()\n",
        "plt.show()"
      ]
    },
    {
      "cell_type": "markdown",
      "metadata": {
        "id": "hzO3nG4vUWpq"
      },
      "source": [
        "Some Insights:- \n",
        "1. If mean is greater than median it means it is positively skewed\n",
        "2. We can see many columns are skewed and for better model working we will transform some columns which are useful."
      ]
    },
    {
      "cell_type": "markdown",
      "metadata": {
        "id": "WSSA31ZjVHbR"
      },
      "source": [
        "## 5. Regression plot for numeric features with bike rented count"
      ]
    },
    {
      "cell_type": "code",
      "execution_count": null,
      "metadata": {
        "id": "FTCnphkxTOmJ"
      },
      "outputs": [],
      "source": [
        "# Plotting the regression plot for all the numerical features\n",
        "\n",
        "# PLotting for all numeric columns except rented bike count as it is our dependent variable.\n",
        "for col in numeric_columns[1:]:\n",
        "  feature = bike_df_lr[col]\n",
        "  label = bike_df_lr['rented_bike_count']\n",
        "  fig,ax=plt.subplots(figsize=(10,6))\n",
        "  sns.regplot(x=bike_df_lr[col],y=bike_df_lr['rented_bike_count'],scatter_kws={\"color\": 'maroon'}, line_kws={\"color\": \"green\"})\n",
        "  correlation = feature.corr(label)\n",
        "\n",
        "  ax.set_title('Rented Bike Count vs ' + col + '- correlation: ' + str(correlation))"
      ]
    },
    {
      "cell_type": "markdown",
      "source": [
        "Some Insights:-\n",
        "1. All numeric COlumns are correlated to Rented bike count columns and most of them are positively and few are negatively.\n",
        "2. Only snowfall, humidity and rainfall are negatively correlated.\n",
        "3. Temperature and Dewpoint temperature are more correlated to rented_bike_count column."
      ],
      "metadata": {
        "id": "05PUh899NRQd"
      }
    },
    {
      "cell_type": "markdown",
      "metadata": {
        "id": "BeO5VXfnWZfq"
      },
      "source": [
        "## 6. Multicolleniarity check (VIF)\n"
      ]
    },
    {
      "cell_type": "markdown",
      "source": [
        "We will check for multicolleniarity and keep only 1 column of which are highly correlated to each other."
      ],
      "metadata": {
        "id": "qGf530hJNysK"
      }
    },
    {
      "cell_type": "markdown",
      "source": [
        "### Defining function to check VIF"
      ],
      "metadata": {
        "id": "euN7QlMeRPzQ"
      }
    },
    {
      "cell_type": "code",
      "execution_count": null,
      "metadata": {
        "id": "kKdg_p8SVh7i"
      },
      "outputs": [],
      "source": [
        "# Defining function to check VIF\n",
        "\n",
        "def vif_calculator(X):\n",
        " \n",
        "   # Calculating VIF\n",
        "   vif_1 = pd.DataFrame()\n",
        "   vif_1[\"variables\"] = X.columns\n",
        "   vif_1[\"VIF\"] = [variance_inflation_factor(X.values, i) for i in range(X.shape[1])]\n",
        " \n",
        "   return(vif_1)"
      ]
    },
    {
      "cell_type": "markdown",
      "source": [
        "### Checking VIF for all Independent numeric columns"
      ],
      "metadata": {
        "id": "-3RA-6IYRKgj"
      }
    },
    {
      "cell_type": "code",
      "execution_count": null,
      "metadata": {
        "id": "LAILkGTKWtet"
      },
      "outputs": [],
      "source": [
        "# Checking VIF for all Independent numeric columns\n",
        "col_list_1=['temperature', 'humidity', 'wind_speed', 'visibility', 'dew_point_temperature', 'solar_radiation', 'rainfall', 'snowfall']\n",
        "vif_calculator(bike_df_lr[[i for i in bike_df_lr.describe().columns if i in col_list_1]])"
      ]
    },
    {
      "cell_type": "markdown",
      "metadata": {
        "id": "iy3zz7O8YD24"
      },
      "source": [
        "Some insights:-\n",
        "1. We see top VIF are of temperature and Dew_point_temperature, So we will drop dew point temperature as it is highest.\n",
        "\n"
      ]
    },
    {
      "cell_type": "markdown",
      "source": [
        "### Deleting required column."
      ],
      "metadata": {
        "id": "w-J3EymZRWhj"
      }
    },
    {
      "cell_type": "code",
      "execution_count": null,
      "metadata": {
        "id": "1ds_zObUXYA8"
      },
      "outputs": [],
      "source": [
        "# Droping temperature\n",
        "\n",
        "bike_df_lr= bike_df_lr.drop(['dew_point_temperature'], axis=1)\n",
        "\n",
        "# Creating a new list after removing dew point temperature and adding rented_bike_count for further uses.\n",
        "col_list_2=['rented_bike_count','temperature', 'humidity', 'wind_speed', 'visibility', 'solar_radiation', 'rainfall', 'snowfall']\n"
      ]
    },
    {
      "cell_type": "markdown",
      "source": [
        "### Final check for VIF"
      ],
      "metadata": {
        "id": "tdKPgnfKRd-t"
      }
    },
    {
      "cell_type": "code",
      "source": [
        "# Rechecking VIF\n",
        "vif_calculator(bike_df_lr[[i for i in bike_df_lr.describe().columns if i in col_list_1]])\n"
      ],
      "metadata": {
        "id": "UK2yU1PXP6Kh"
      },
      "execution_count": null,
      "outputs": []
    },
    {
      "cell_type": "markdown",
      "metadata": {
        "id": "TI1QsPmhaa8s"
      },
      "source": [
        "Some insights:-\n",
        "1. So now VIF is good, we moslty care about VIF which are above 5. \n"
      ]
    },
    {
      "cell_type": "markdown",
      "metadata": {
        "id": "3kYyz0fYuAR7"
      },
      "source": [
        "## 7. Transforming data to get rid of skewness"
      ]
    },
    {
      "cell_type": "markdown",
      "source": [
        "### Checking all columns for skewness"
      ],
      "metadata": {
        "id": "6xncWAjULe5_"
      }
    },
    {
      "cell_type": "code",
      "execution_count": null,
      "metadata": {
        "id": "ClONN1Tbg0eG"
      },
      "outputs": [],
      "source": [
        "# Checking all columns for skewness\n",
        "\n",
        "dict1={}\n",
        "for col in bike_df_lr[col_list_2]:\n",
        "  dict1[col]=skew(bike_df_lr[col])\n",
        "  \n",
        "\n",
        "  plt.figure()\n",
        "  sns.distplot(bike_df_lr[col])\n",
        "  plt.show"
      ]
    },
    {
      "cell_type": "markdown",
      "source": [
        "Some Insights:-\n",
        "1. We have skewness in many columns. now wee will apply squareroot transformation because it works better for our data set rather than log transformation."
      ],
      "metadata": {
        "id": "303_dq3jHfXE"
      }
    },
    {
      "cell_type": "markdown",
      "source": [
        "### Applying squareroot Transformation on some columns which are important"
      ],
      "metadata": {
        "id": "qCKbGzG1LWOm"
      }
    },
    {
      "cell_type": "code",
      "execution_count": null,
      "metadata": {
        "id": "PX5psgY3itMS"
      },
      "outputs": [],
      "source": [
        "# Rented_bike_count is highly skewed so we are performing Squareroot transformation\n",
        "bike_df_lr['rented_bike_count']=np.sqrt(bike_df_lr['rented_bike_count'])\n",
        "print(bike_df_lr['rented_bike_count'].skew())\n",
        "\n",
        "# wind is highly skewed so we are performing Squareroot transformation\n",
        "bike_df_lr['wind_speed']=np.sqrt(bike_df_lr['wind_speed'])\n",
        "print(bike_df_lr['wind_speed'].skew())\n",
        "\n",
        "# solar radiation is highly skewed so we are performing Squareroot transformation\n",
        "bike_df_lr['solar_radiation']=np.sqrt(bike_df_lr['solar_radiation'])\n",
        "print(bike_df_lr['solar_radiation'].skew())\n",
        "\n",
        "# Rainfall is highly skewed so we are performing Squareroot transformation\n",
        "bike_df_lr['rainfall']=np.sqrt(bike_df_lr['rainfall'])\n",
        "print(bike_df_lr['rainfall'].skew())\n",
        "\n",
        "# Snowfall is highly skewed so we are performing Squareroot transformation\n",
        "bike_df_lr['snowfall']=np.sqrt(bike_df_lr['snowfall'])\n",
        "print(bike_df_lr['snowfall'].skew())\n"
      ]
    },
    {
      "cell_type": "markdown",
      "source": [
        "### Checking Skewness after the Squareroot transformation."
      ],
      "metadata": {
        "id": "rEw7hOrcLivI"
      }
    },
    {
      "cell_type": "code",
      "execution_count": null,
      "metadata": {
        "id": "MJdmNd9PpLYO"
      },
      "outputs": [],
      "source": [
        "# Putting new skewness value into dict2\n",
        "dict2= {}\n",
        "for col in bike_df_lr[col_list_2]:\n",
        "  dict2[col]=skew(bike_df_lr[col])\n",
        "  plt.figure()\n",
        "  sns.distplot(bike_df_lr[col])\n",
        "  plt.show"
      ]
    },
    {
      "cell_type": "code",
      "execution_count": null,
      "metadata": {
        "id": "es0CpBtjOqyG"
      },
      "outputs": [],
      "source": [
        "# Skewness value before transformation\n",
        "dict1"
      ]
    },
    {
      "cell_type": "code",
      "execution_count": null,
      "metadata": {
        "id": "WM5DSgeGOsPJ"
      },
      "outputs": [],
      "source": [
        "# Skewness value after transformation\n",
        "dict2"
      ]
    },
    {
      "cell_type": "markdown",
      "source": [
        "###"
      ],
      "metadata": {
        "id": "QihGvVkzL2PG"
      }
    },
    {
      "cell_type": "markdown",
      "metadata": {
        "id": "DGdz55-nOubM"
      },
      "source": [
        "## Checking correlation between columns now\n"
      ]
    },
    {
      "cell_type": "code",
      "execution_count": null,
      "metadata": {
        "id": "xxtyTAt6jw3d"
      },
      "outputs": [],
      "source": [
        "# correlation graph of the data using heatmap\n",
        "\n",
        "fig,ax = plt.subplots(figsize=(15,8))\n",
        "sns.heatmap(bike_df_lr[col_list_2].corr(), annot=True, linewidths=.5)\n",
        "plt.show()"
      ]
    },
    {
      "cell_type": "markdown",
      "source": [
        "## Final check for outliers now."
      ],
      "metadata": {
        "id": "ZCJ2nXfQMAKT"
      }
    },
    {
      "cell_type": "code",
      "execution_count": null,
      "metadata": {
        "id": "Q7WblfZetDM5"
      },
      "outputs": [],
      "source": [
        "# Random check for outliers\n",
        "for col in col_list_2:\n",
        "  sns.boxplot(x=col, data= bike_df_lr)\n",
        "  ax.set_xlabel(col,fontsize=15)\n",
        "  plt.show()\n"
      ]
    },
    {
      "cell_type": "markdown",
      "source": [
        "Some Insights:-\n",
        "1. So we do not have any such outliers in our more correlated columns.\n",
        "2. No outliers in out renter_bike_count columns, which is good."
      ],
      "metadata": {
        "id": "CI7VC4fvJN0t"
      }
    },
    {
      "cell_type": "markdown",
      "metadata": {
        "id": "WLxqkOVYMyw-"
      },
      "source": [
        "# **MODEL TRAINING**"
      ]
    },
    {
      "cell_type": "markdown",
      "source": [
        "**We will be Using these algorothim to train models.**\n",
        "1. Linear\n",
        "2. Lasso\n",
        "3. Ridge\n",
        "4. Elasticnet\n",
        "5. Polynomial\n",
        "6. Decision_Tree\n",
        "7. Random_Forest\n",
        "8. Gradient_Boosting\n",
        "9. Xtreme_GB"
      ],
      "metadata": {
        "id": "CA6zYwqx-WTb"
      }
    },
    {
      "cell_type": "markdown",
      "metadata": {
        "id": "fyETKXMkhhlY"
      },
      "source": [
        "## Creating functions to train the model and get evaluation matrix."
      ]
    },
    {
      "cell_type": "code",
      "execution_count": null,
      "metadata": {
        "id": "YHX9sQacM1O4"
      },
      "outputs": [],
      "source": [
        "# Creating list for Evaluation Matrix which we use later to compare for test data\n",
        "test_score=[]\n",
        "test_mean_sq_error=[]\n",
        "test_root_mean_sq_error=[]\n",
        "test_r2_list=[]\n",
        "test_adj_r2_list=[]\n",
        "\n",
        "\n",
        "# Creating list for Evaluation Matrix which we use later to compare for train data\n",
        "train_score=[]\n",
        "train_mean_sq_error=[]\n",
        "train_root_mean_sq_error=[]\n",
        "train_r2_list=[]\n",
        "train_adj_r2_list=[]\n"
      ]
    },
    {
      "cell_type": "code",
      "execution_count": null,
      "metadata": {
        "id": "YSBnau_5z6zD"
      },
      "outputs": [],
      "source": [
        "# Making a function to train and evaluate linear model\n",
        "def train_linear_model(model,X_train,y_train,X_test,y_test):\n",
        "  '''\n",
        "  function to train and evaluate linear model \n",
        "  '''\n",
        "\n",
        "  # Training the model\n",
        "  model.fit(X_train,y_train)\n",
        "\n",
        "# --------------------------------------------------------------------------For test data--------------------------------------------------------------------------------------\n",
        "  \n",
        "  # Finding evaluation matrix for test data\n",
        "  \n",
        "  print('\\n================  Evalution Matrix for test data  =========================\\n')\n",
        "\n",
        "  # Predicting the values for test dataset\n",
        "  test_pred = model.predict(X_test)\n",
        "\n",
        "  # Calculating model score\n",
        "  test_src= model.score(X_train , y_train)\n",
        "  print(\"Model Score :\" , test_src)\n",
        "\n",
        "  # Calculating mean_squared_error for test dataset\n",
        "  test_MSE  = mean_squared_error(y_test,test_pred)\n",
        "  print(\"MSE :\" , test_MSE)\n",
        "\n",
        "  # Calculating root mean squared error for test dataset\n",
        "  test_RMSE = np.sqrt(test_MSE)\n",
        "  print(\"RMSE :\" ,test_RMSE)\n",
        "\n",
        "  # Calculating the r2 score for test dataset\n",
        "  test_r2 = r2_score(y_test,test_pred)\n",
        "  print(\"R2 :\" ,test_r2)\n",
        "\n",
        "  # Calculating the adjusted r2 score for test dataset\n",
        "  test_adj_r2=1-(1-r2_score(y_test,test_pred))*((X_test.shape[0]-1)/(X_test.shape[0]-X_test.shape[1]-1))\n",
        "  print(\"Adjusted R2 : \",test_adj_r2)\n",
        "  \n",
        "  # Appending metrice to list for test dataset\n",
        "  test_score.append(test_src)\n",
        "  test_mean_sq_error.append(test_MSE)\n",
        "  test_root_mean_sq_error.append(test_RMSE)\n",
        "  test_r2_list.append(test_r2)\n",
        "  test_adj_r2_list.append(test_adj_r2)\n",
        "\n",
        "  print('\\n================  Evalution Matrix for test data  =========================\\n')\n",
        "    \n",
        "\n",
        "  # ploting the line graph of actual and predicted values for test data of test dataset\n",
        "  print('\\\n",
        "  =========================================================\\\n",
        "  Evalution Graph for test data\\\n",
        "  ===================================================\\n')  \n",
        "  \n",
        "  plt.figure(figsize=(15,8))\n",
        "  plt.plot((test_pred)[:100])\n",
        "  plt.plot((np.array(y_test)[:100]))\n",
        "  plt.legend([\"Predicted\",\"Actual\"])\n",
        "  plt.show()\n",
        "\n",
        "  print('\\\n",
        "    =========================================================\\\n",
        "    Evalution Graph for test data\\\n",
        "    ===================================================\\n') \n",
        "\n",
        "\n",
        "\n",
        "  # ---------------------------------------------------------------------------------For train data--------------------------------------------------------------------------------\n",
        "  \n",
        "  # Finding evaluation matrix for test data\n",
        "\n",
        "  print('\\n================  Evalution Matrix for train data  =========================\\n')\n",
        "\n",
        "  # Predicting the values for train dataset\n",
        "  train_pred = model.predict(X_train)\n",
        "\n",
        "  # Calculating model score for train dataset\n",
        "  train_src= model.score(X_train,y_train)\n",
        "  print(\"Model Score :\" , train_src)\n",
        "\n",
        "  # Calculating mean_squared_error for train dataset\n",
        "  train_MSE  = mean_squared_error(y_train,train_pred)\n",
        "  print(\"MSE :\" , train_MSE)\n",
        "\n",
        "  # Calculating root mean squared error for train dataset\n",
        "  train_RMSE = np.sqrt(train_MSE)\n",
        "  print(\"RMSE :\" ,train_RMSE)\n",
        "\n",
        "  # Calculating the r2 score for train dataset\n",
        "  train_r2 = r2_score(y_train,train_pred)\n",
        "  print(\"R2 :\" ,train_r2)\n",
        "\n",
        "  # Calculating the adjusted r2 score for train dataset\n",
        "  train_adj_r2 = 1-(1-r2_score(y_train,train_pred))*((X_train.shape[0]-1)/(X_train.shape[0]-X_train.shape[1]-1))\n",
        "  print(\"Adjusted R2 : \", train_adj_r2)\n",
        "\n",
        "  # Appending metrice to list for train dataset\n",
        "  train_score.append(train_src)\n",
        "  train_mean_sq_error.append(train_MSE)\n",
        "  train_root_mean_sq_error.append(train_RMSE)\n",
        "  train_r2_list.append(train_r2)\n",
        "  train_adj_r2_list.append(train_adj_r2)\n",
        "    \n",
        "  print('\\n================  Evalution Matrix for train data  =========================\\n')\n",
        "\n"
      ]
    },
    {
      "cell_type": "markdown",
      "metadata": {
        "id": "HbBNEtqJiP_r"
      },
      "source": [
        "## Creating function to get feature importance score."
      ]
    },
    {
      "cell_type": "code",
      "execution_count": null,
      "metadata": {
        "id": "wNFSVKVc0BSI"
      },
      "outputs": [],
      "source": [
        "def get_features_importance (optimal_model, X_train):\n",
        "  '''\n",
        "  shows the graph of feature importance\n",
        "  '''\n",
        "  features = X_train.columns\n",
        "  importances = optimal_model.feature_importances_\n",
        "  indices = np.argsort(importances)\n",
        "\n",
        "\n",
        "\n",
        "  plt.figure(figsize=(15,10))\n",
        "  plt.title('Feature Importance')\n",
        "  plt.barh(range(len(indices)), importances[indices], color='red', align='center')\n",
        "  plt.yticks(range(len(indices)), [features[i] for i in indices])\n",
        "  plt.xlabel('Relative Importance')\n",
        "\n",
        "  plt.show()"
      ]
    },
    {
      "cell_type": "markdown",
      "metadata": {
        "id": "cAby3c9onKYZ"
      },
      "source": [
        "## Initiating Train Test Split"
      ]
    },
    {
      "cell_type": "code",
      "execution_count": null,
      "metadata": {
        "id": "5X-4w9PJ0Seh"
      },
      "outputs": [],
      "source": [
        "# Train - Spliting  data\n",
        "X=bike_df_lr.drop(['rented_bike_count'],axis=1)\n",
        "X.shape\n",
        "(8760, 16)\n",
        "y=bike_df_lr['rented_bike_count']\n",
        "\n",
        "#spliting\n",
        "X_train, X_test, y_train, y_test = train_test_split(X, y, test_size=0.2, random_state=21)\n",
        "\n",
        "X_train = pd.DataFrame(X_train, columns = X.columns)\n",
        "X_test = pd.DataFrame(X_test, columns=X.columns)\n",
        "\n",
        "\n",
        "#scaling data\n",
        "std = StandardScaler()\n",
        "X_train = std.fit_transform(X_train)\n",
        "X_test = std.transform(X_test)"
      ]
    },
    {
      "cell_type": "markdown",
      "source": [
        "Some Insights:-\n",
        "1. We are taking 80% as our training data and 20% as testing data.\n",
        "2. We are using standard scaler for scaling pourpose."
      ],
      "metadata": {
        "id": "eLcXXt-N5CW6"
      }
    },
    {
      "cell_type": "markdown",
      "metadata": {
        "id": "pXZswDkCnf12"
      },
      "source": [
        "## Linear regression\n"
      ]
    },
    {
      "cell_type": "code",
      "execution_count": null,
      "metadata": {
        "id": "aBlRk_W7nimd"
      },
      "outputs": [],
      "source": [
        "#linear regression model\n",
        "linear_model= LinearRegression()\n",
        "train_linear_model(linear_model, X_train, y_train, X_test, y_test)\n",
        "\n",
        "# Printing best coef by model\n",
        "print('\\nCoefficient from the model:-')\n",
        "linear_model.coef_\n"
      ]
    },
    {
      "cell_type": "markdown",
      "source": [
        "Some Insights:-\n",
        "1. Model has not very god accuracy. now we will try other algorithms to increase accuracy."
      ],
      "metadata": {
        "id": "ZT-vfz7r7O95"
      }
    },
    {
      "cell_type": "markdown",
      "metadata": {
        "id": "MUewvsP3oMVF"
      },
      "source": [
        "## Lasso regression (L1)"
      ]
    },
    {
      "cell_type": "code",
      "execution_count": null,
      "metadata": {
        "id": "wnthWKDOoOjx"
      },
      "outputs": [],
      "source": [
        "# finding the best parameters for lasso by gridsearchcv\n",
        "lasso_model = Lasso(alpha=0.1,max_iter=3000)\n",
        "\n",
        "#setting the parameters of the lasso model\n",
        "parameters = {'alpha': [1e-15,1e-13,1e-10,1e-8,1e-5,1e-4,1e-3,1e-2,1e-1,1,5,10,20,30,40,45,50,55,60,100,0.0014]}\n",
        "lasso_grid = GridSearchCV(lasso_model, parameters, scoring='neg_mean_squared_error', cv=5)\n",
        "\n",
        "# Calling train_linear_model to train,fit and evalution of lasso model\n",
        "train_linear_model(lasso_grid,X_train,y_train,X_test,y_test)\n",
        "\n"
      ]
    },
    {
      "cell_type": "markdown",
      "source": [
        "Some Insights:-\n",
        "1. We do not have desirable Adj R2 value.\n",
        "2. GridSearchcv is used for best parameters value."
      ],
      "metadata": {
        "id": "Tt3tS2ci7nN2"
      }
    },
    {
      "cell_type": "markdown",
      "metadata": {
        "id": "tlEr12Ieobgx"
      },
      "source": [
        "## Ridge Regression (L2)"
      ]
    },
    {
      "cell_type": "code",
      "execution_count": null,
      "metadata": {
        "id": "AVPpmSm9ohdA"
      },
      "outputs": [],
      "source": [
        "# Applying ridge.\n",
        "ridge_model = Ridge(alpha=0.1)\n",
        "\n",
        "# finding the best parameters for ridge model by gridsearchcv\n",
        "parameters = {'alpha': [1e-15,1e-10,1e-8,1e-5,1e-4,1e-3,1e-2,1,5,10,20,30,35,40,45,50,55,60,100,0.5,1.5,1.6,1.7,1.8,1.9]}\n",
        "ridge_grid = GridSearchCV(ridge_model, parameters, scoring='neg_mean_squared_error', cv=3)\n",
        "\n",
        "# calling train_linear_model to train,fit and evalution of ridge model\n",
        "train_linear_model(ridge_grid,X_train,y_train,X_test,y_test)\n",
        "\n",
        "ridge_grid"
      ]
    },
    {
      "cell_type": "markdown",
      "source": [
        "Some Insights:-\n",
        "1. We do not have desirable Adj R2 value.\n",
        "2. GridSearchcv is used for best parameters value."
      ],
      "metadata": {
        "id": "LM1mULYa7-aj"
      }
    },
    {
      "cell_type": "markdown",
      "metadata": {
        "id": "Vck5VVbModz3"
      },
      "source": [
        "## Elastic regression"
      ]
    },
    {
      "cell_type": "code",
      "execution_count": null,
      "metadata": {
        "id": "zYBuCUyLodFG"
      },
      "outputs": [],
      "source": [
        "# Applying elastic regression\n",
        "elastic_model = ElasticNet()\n",
        "\n",
        "# finding the best parameters for ridge model by gridsearchcv\n",
        "parameters = {'alpha': [1e-15,1e-13,1e-10,1e-8,1e-5,1e-4,1e-3,1e-2,1e-1,1,5,10,20,30,40,45,50,55,60,100],'l1_ratio':[0.1,0.2,0.3,0.4,0.5]}\n",
        "elastic_grid = GridSearchCV(elastic_model, parameters, scoring='neg_mean_squared_error',cv=5)\n",
        "\n",
        "# calling train_linear_model to train,fit and evalution of elasticnet model\n",
        "train_linear_model(elastic_grid,X_train,y_train,X_test,y_test)\n"
      ]
    },
    {
      "cell_type": "markdown",
      "source": [
        "Some Insights:-\n",
        "1. We do not have desirable Adj R2 value.\n",
        "2. GridSearchcv is used for best parameters value."
      ],
      "metadata": {
        "id": "l7C-UW4v8X7U"
      }
    },
    {
      "cell_type": "markdown",
      "metadata": {
        "id": "5sraE3j2o8ou"
      },
      "source": [
        "## Polynomial Regression"
      ]
    },
    {
      "cell_type": "code",
      "execution_count": null,
      "metadata": {
        "id": "2H6CeGVDpDWO"
      },
      "outputs": [],
      "source": [
        "#creating pipeline to convert x to polynomial feature and apply Linear Regression\n",
        "pipe=make_pipeline(PolynomialFeatures(degree=2),LinearRegression())\n",
        "\n",
        "# calling train_linear_model to train,fit and evalution of polynomial model\n",
        "train_linear_model(pipe,X_train,y_train,X_test,y_test)"
      ]
    },
    {
      "cell_type": "markdown",
      "metadata": {
        "id": "eloujojnpbZO"
      },
      "source": [
        "## Decision tree regression"
      ]
    },
    {
      "cell_type": "code",
      "execution_count": null,
      "metadata": {
        "id": "6juTyou3ppNO"
      },
      "outputs": [],
      "source": [
        "#creating decision tree model\n",
        "dt_model = DecisionTreeRegressor(criterion='mse', max_depth=8,\n",
        "                      max_features=9, max_leaf_nodes=100,)\n",
        "\n",
        "#calling run_model to train,fit and evalution of decision tree model\n",
        "train_linear_model(dt_model,X_train,y_train,X_test,y_test)"
      ]
    },
    {
      "cell_type": "code",
      "execution_count": null,
      "metadata": {
        "id": "nl_YmBjsrV4o"
      },
      "outputs": [],
      "source": [
        "# Getting importance score for all features\n",
        "get_features_importance(dt_model , X)"
      ]
    },
    {
      "cell_type": "markdown",
      "source": [
        "Some Insights:-\n",
        "1. Most important features for decision tree regressor are temperature, functioning-day-No and humidity."
      ],
      "metadata": {
        "id": "_uWeCpXa9FXH"
      }
    },
    {
      "cell_type": "markdown",
      "metadata": {
        "id": "BbUZO9yGp4Dc"
      },
      "source": [
        "## Random forest"
      ]
    },
    {
      "cell_type": "code",
      "execution_count": null,
      "metadata": {
        "id": "R-wNM32mp6hP"
      },
      "outputs": [],
      "source": [
        "# Creating model of random forest\n",
        "rf_model = RandomForestRegressor()\n",
        "\n",
        "# Creating parameters dict to check random forest with diffirent value of parameter through gridsearch\n",
        "n_estimators=[60,80,100]\n",
        "max_depth=[15,20]\n",
        "max_leaf_nodes=[40,60,80]\n",
        "params = {'n_estimators':n_estimators,'max_depth':max_depth ,'max_leaf_nodes':max_leaf_nodes}\n",
        "\n",
        "# Creating rf_grid model to run rf model with gridsearch\n",
        "rf_grid= GridSearchCV(rf_model,param_grid=params,verbose=0)\n",
        "\n",
        "# Calling run_model to train,fit and evalution of decision tree model\n",
        "train_linear_model(rf_grid,X_train,y_train,X_test,y_test)\n",
        "\n",
        "# Best Parameters\n",
        "print('Best Parameters')\n",
        "rf_grid.best_params_"
      ]
    },
    {
      "cell_type": "code",
      "execution_count": null,
      "metadata": {
        "id": "yaRgHI9Zp6bI"
      },
      "outputs": [],
      "source": [
        "\n",
        "# Optimal rf model\n",
        "optimal_rf_model= rf_grid.best_estimator_\n",
        "\n",
        "# Getting and visualizing features importance  of rf model\n",
        "get_features_importance(optimal_rf_model, X)"
      ]
    },
    {
      "cell_type": "markdown",
      "source": [
        "Some Insights:-\n",
        "1. Most important features for Random forest are temperature, humidity, functioning-day-Yes and functioning-day-No."
      ],
      "metadata": {
        "id": "TGEfv3TH9ZBK"
      }
    },
    {
      "cell_type": "markdown",
      "metadata": {
        "id": "kxTAWliIyDa6"
      },
      "source": [
        "## Gradient boosting"
      ]
    },
    {
      "cell_type": "code",
      "execution_count": null,
      "metadata": {
        "id": "ND_2tIRTyM4b"
      },
      "outputs": [],
      "source": [
        "#importing Gradient Boosting Regressor\n",
        "from sklearn.ensemble import GradientBoostingRegressor\n",
        "\n",
        "#creating model of Gradient Boosting\n",
        "gb_model=GradientBoostingRegressor()\n",
        "\n",
        "# creating param dict to check diffirent value of parameter\n",
        "n_estimators=[80,100,150]\n",
        "max_depth=[15,20,30]\n",
        "\n",
        "params = {'n_estimators':n_estimators,'max_depth':max_depth }\n",
        "\n",
        "#grid search for gradient bossting\n",
        "gb_grid= GridSearchCV(gb_model,param_grid=params,verbose=0)\n",
        "\n",
        "#calling run_model to train,fit and evalution of gradient boosting model\n",
        "train_linear_model(gb_grid,X_train,y_train,X_test,y_test)"
      ]
    },
    {
      "cell_type": "code",
      "execution_count": null,
      "metadata": {
        "id": "W72FBFxNyTTc"
      },
      "outputs": [],
      "source": [
        "#getting best estimator of GB model given by gb_grid model\n",
        "optimal_gb_model=gb_grid.best_estimator_\n",
        "\n",
        "#getting and visualizing features_importance of gradient boosting\n",
        "get_features_importance(optimal_gb_model,X)"
      ]
    },
    {
      "cell_type": "markdown",
      "source": [
        "Some Insights:-\n",
        "1. Most important features for Gradient Boosting are temperature, humidity, functioning-day-Yes and functioning-day-No."
      ],
      "metadata": {
        "id": "d86KH5Nx9v7r"
      }
    },
    {
      "cell_type": "markdown",
      "metadata": {
        "id": "qXdOp-H9yFyi"
      },
      "source": [
        "## eXtreme Gradient boosting.\n"
      ]
    },
    {
      "cell_type": "code",
      "execution_count": null,
      "metadata": {
        "id": "9zEO9HT4yE-B"
      },
      "outputs": [],
      "source": [
        "#importing XGBoost Regressor\n",
        "from xgboost import XGBRegressor\n",
        "\n",
        "#creating Xgboost model\n",
        "xgb_model=XGBRegressor()\n",
        "\n",
        "#creating param dict for gridsearch\n",
        "n_estimators=[80,100,150]\n",
        "max_depth=[15,20,30]\n",
        "params = {'n_estimators':n_estimators,'max_depth':max_depth }\n",
        "\n",
        "\n",
        "#creating xgb grid model\n",
        "xgb_grid= GridSearchCV(xgb_model,param_grid=params,verbose=0)\n",
        "\n",
        "#calling run_model to train,fit and evalution of xgb_grid model\n",
        "train_linear_model(xgb_grid,X_train,y_train,X_test,y_test);"
      ]
    },
    {
      "cell_type": "code",
      "execution_count": null,
      "metadata": {
        "id": "akVuEvzJyllK"
      },
      "outputs": [],
      "source": [
        "# getting best estimator of xgb model given by xgb grid model\n",
        "optimal_xgb_model=xgb_grid.best_estimator_\n",
        "\n",
        "#getting best param of rf model given by xgb_grid model\n",
        "get_features_importance(optimal_xgb_model,X)"
      ]
    },
    {
      "cell_type": "markdown",
      "source": [
        "Some Insights:-\n",
        "1. Most important features for eXtreme Gradient boosting are functioning-day-No, season_winter and hour_18."
      ],
      "metadata": {
        "id": "xybpyrey9061"
      }
    },
    {
      "cell_type": "markdown",
      "metadata": {
        "id": "HAJ5yM3ryraI"
      },
      "source": [
        "## Evaluation of all performed regression"
      ]
    },
    {
      "cell_type": "markdown",
      "source": [
        "### For **Test Dataset**"
      ],
      "metadata": {
        "id": "wsGv2Ef4nUzG"
      }
    },
    {
      "cell_type": "code",
      "execution_count": null,
      "metadata": {
        "id": "hNsuqGX8yKWP"
      },
      "outputs": [],
      "source": [
        "#creating dictionary to store all the metrices \n",
        "test_all_model_matrices={'Test_Score':test_score,'Test_Mean_square_error':test_mean_sq_error,'Test_Root_Mean_square_error':test_root_mean_sq_error,'Test_R2':test_r2_list,'Test_Adjusted_R2':test_adj_r2_list}\n",
        "\n",
        "#list of all model made\n",
        "model_name=['Linear','Lasso','Ridge','Elasticnet','Polynomial','Decision_Tree','Random_Forest','Gradient_Boosting','Xtreme_GB',]\n",
        "\n",
        "#converting dictionary to dataframe fro easy visual\n",
        "test_matrices_df=pd.DataFrame.from_dict(test_all_model_matrices, orient=\"index\",columns=model_name)\n",
        "\n",
        "print('------------------------------------------------------------------Test------------------------------------------------------------------')\n",
        "\n",
        "# #transposing matrices_df for easy and clear view and saving that as new final matrices df\n",
        "test_final_matrices=test_matrices_df.transpose().reset_index().rename(columns={'index':'Models'})\n",
        "test_final_matrices"
      ]
    },
    {
      "cell_type": "code",
      "execution_count": null,
      "metadata": {
        "id": "R2fSfYn7zwaW"
      },
      "outputs": [],
      "source": [
        "#creating bar plot to visualize the Adjusted R2 of model \n",
        "plt.figure(figsize=(15,8),dpi=100)\n",
        "sns.barplot(x='Models',y='Test_Adjusted_R2',data=test_final_matrices.sort_values('Test_Adjusted_R2'),palette=\"flare\").set(title='TEST Adjusted_R2 of Models')\n",
        "plt.xticks(rotation=50);"
      ]
    },
    {
      "cell_type": "markdown",
      "source": [
        "Some Insights:-\n",
        "1. The best accuracy algorithm for our test dataset is Xtreme Gradient boosting algorithm with Adj_R2 score of 0.928718.\n",
        "2. We have other algorithm such as polynomial, Gradient boosting, Random forest who also have optimal Adj_R2 score."
      ],
      "metadata": {
        "id": "QQGu11U6_R2S"
      }
    },
    {
      "cell_type": "markdown",
      "source": [
        "### For **Train Dataset**"
      ],
      "metadata": {
        "id": "XcUtfreAnbiT"
      }
    },
    {
      "cell_type": "code",
      "source": [
        "#creating dictionary to store all the metrices \n",
        "train_all_model_matrices={'Train_Score':train_score,'Train_Mean_square_error':train_mean_sq_error,'Train_Root_Mean_square_error':train_root_mean_sq_error,'Train_R2':train_r2_list,'Train_Adjusted_R2':train_adj_r2_list}\n",
        "\n",
        "#list of all model made\n",
        "model_name=['Linear','Lasso','Ridge','Elasticnet','Polynomial','Decision_Tree','Random_Forest','Gradient_Boosting','Xtreme_GB']\n",
        "\n",
        "#converting dictionary to dataframe fro easy visual\n",
        "train_matrices_df=pd.DataFrame.from_dict(train_all_model_matrices, orient=\"index\",columns=model_name)\n",
        "\n",
        "print('------------------------------------------------------------------Train------------------------------------------------------------------')\n",
        "\n",
        "# #transposing matrices_df for easy and clear view and saving that as new final matrices df\n",
        "train_final_matrices=train_matrices_df.transpose().reset_index().rename(columns={'index':'Models'})\n",
        "train_final_matrices"
      ],
      "metadata": {
        "id": "FFBp5kAZngmQ"
      },
      "execution_count": null,
      "outputs": []
    },
    {
      "cell_type": "code",
      "source": [
        "#creating bar plot to visualize the Adjusted R2 of model \n",
        "plt.figure(figsize=(15,8),dpi=100)\n",
        "sns.barplot(x='Models',y='Train_Adjusted_R2',data=train_final_matrices.sort_values('Train_Adjusted_R2'),palette=\"flare\").set(title='TRAIN Adjusted_R2 of Models')\n",
        "plt.xticks(rotation=90);"
      ],
      "metadata": {
        "id": "aVFAXvcApUY9"
      },
      "execution_count": null,
      "outputs": []
    },
    {
      "cell_type": "markdown",
      "source": [
        "Some Insights:-\n",
        "1. The best accuracy algorithm for our train dataset is Decision tree algorithm with Adj_R2 score of 1.\n",
        "2. We have other algorithm such as  Gradient boosting, Xtreme_GB and polynomial who also have optimal Adj_R2 score."
      ],
      "metadata": {
        "id": "BH2KT0T2_uhW"
      }
    },
    {
      "cell_type": "markdown",
      "source": [
        "# **CONCLUSION**"
      ],
      "metadata": {
        "id": "uiGJPCjGAEth"
      }
    },
    {
      "cell_type": "markdown",
      "source": [
        "## 1. **EDA Insights**"
      ],
      "metadata": {
        "id": "Lal7KqBjEu9v"
      }
    },
    {
      "cell_type": "markdown",
      "source": [
        "1. Rented Bike count contains outliers. Wind Speed, Solar Radiation, Rainfall, and Snowfall contains outliers which wont be a problem.\n",
        "\n",
        "2. We have more bookings on weekdays combined as compsred to weekend.\n",
        "\n",
        "3. On Weekdays on average 901325 bikes are rented. On Weekends on average 832843 bikes are rented.\n",
        "\n",
        "4. Top 3 months where most bikes were rented are June, July and May. Peak periods when maximum bikes were rented is from May to October. The month in which least bikes were rented is January(150006) followed by February(151833) and December(185330).\n",
        "\n",
        "5. Maximum number of bikes rented on average is in the 18th hour followed by 19th hour and 17th hour. Peak period for bike rented count is from15th hour to 22nd hour, there is a slight increment in the 8th hour also. \n",
        "Minimum bikes were rented in 4th and 5th hour. \n",
        "\n",
        "6. We can see that no bikes were rented on Non-functioning day. \n",
        "\n",
        "7. We can see that there are very high demand for bike on rent in summer season , followed by autumn. \n",
        "Least numbers of bike were rented in winter season, that maybe because of cold and snow. \n",
        "\n",
        "8. In Summer(green), Peak is at 18th hour and least is at 4th and 5th hour, and it has highest number of rented bike. \n",
        "In Autumn(blue), Peak is at 18th hour and least is at 4th and 5th hour. \n",
        "In Spring(yellow), Peak is at 18th hour and least is at 4th and 5th hour. \n",
        "In winter(red), Peak is at 18th hour and least is at 4th and 5th hour, it has least number of bikes rented. \n",
        "We see almost similar trent in Autumn, Summer and Spring. There values are close to each other. \n",
        "\n",
        "9. As the Snowfall increases, the bike rent count decreases. \n",
        "\n",
        "10. As the Rainfall(mm) increases, the bike rent count decreases. \n",
        "\n",
        "11. As the Solar Radiation(MJ/m²) increases, the bike rent count decreases rapidly(log scale). \n",
        "\n",
        "12. We can see only at an optimal temperature maximum number of bikes were rented. \n",
        "The peak period is between temperature 15°C to 28°C. \n",
        "Temperature at which maximum bikes were rented is 23.4°C.  \n",
        "Temperature at which minimum bikes were rented is -16.9°C. \n",
        "\n",
        "13. We can see only at an optimal Humidity percentage, maximum number of bikes were rented. \n",
        "Most appropriate humidity percentage is between 30% to 80%. \n",
        "Humidity at which maximum bikes were rented is 43%. \n",
        "Humidity at which minimum bikes were rented is 10%.   \n",
        "\n",
        "14. We can see as the visibility increases so the number of bike which are rented. \n",
        "Visibility at which maximum bikes were rented is 20000 Meters. \n",
        "\n",
        "15. We can see as the Wind Speed(m/s) increases the number of bike which are rented decreases. \n",
        "Wind Speed(m/s) at which maximum bikes were rented is 1.4 m/s. \n",
        "Wind Speed(m/s) at which minimum bikes were rented is 6.9 m/s. \n",
        "\n",
        "\n",
        "16. We have only 3.5% of total rented bikes count on Holiday, majority of bikes were rented on working days(not-holiday). \n",
        "\n",
        "\n",
        "17. Maximum bikes were rented on Friday(15.4%), On second place we have Wednesday(15.0%) and than Monday(14.8%). "
      ],
      "metadata": {
        "id": "ORHAADS-E23y"
      }
    },
    {
      "cell_type": "markdown",
      "source": [
        "## 2. **Machine Learning Conclusion**"
      ],
      "metadata": {
        "id": "68191PYdExNH"
      }
    },
    {
      "cell_type": "markdown",
      "source": [
        "**We performend model training on diffrent models such as :-**\n",
        "\n",
        "> Linear Regression\n",
        "\n",
        "> Lasso Regression\n",
        "\n",
        "> Ridge Regression\n",
        "\n",
        "> Elasticnet Regression\n",
        "\n",
        "> Polynomial Regression\n",
        "\n",
        "> Decision Tree Regression\n",
        "\n",
        "> Random Forest Regression\n",
        "\n",
        "> Gradient Boosting Regression\n",
        "\n",
        "> Xtreme GB Regression\n",
        "\n",
        "1. Most important features for decision tree regressor are temperature, functioning-day-No and humidity.\n",
        "\n",
        "2. Most important features for Random forest are temperature, humidity, functioning-day-Yes and functioning-day-No.\n",
        "\n",
        "3. Most important features for Gradient Boosting are temperature, humidity, functioning-day-Yes and functioning-day-No.\n",
        "\n",
        "4. Most important features for eXtreme Gradient boosting are functioning-day-No, season_winter and hour_18.\n",
        "\n",
        "5. We used GridSearchcv on many algorithms for best parameter values and results.\n",
        "\n",
        "6. We encoded many categorical columns for better model learning. the method used was One-hot encoding.\n",
        "\n",
        "7. We used squareroot transformation to deal with skewness and also outliers in rented_bike_count, wind_speed, solar_radiation, rainfall and snowfall. as log transformation was increasing the skewness drastically.\n",
        "\n",
        "8. VIF was high for temperature and dew_point_temperature. so we deleted dew_point_tempoerature feature to avoid multicolleniarity.\n",
        "\n",
        "9. All numeric Columns are correlated to Rented bike count columns and most of them are positively and few are negatively.\n",
        "Only snowfall, humidity and rainfall are negatively correlated.\n",
        "Temperature and Dewpoint temperature are more correlated to rented_bike_count column.\n",
        "\n",
        "10. All models performed slightly better on Train data as compared to test data. Best Adjusted R2 score we got for test data was 0.928718(by Xtreme_GB) while for train data it was 1(by Dicision_tree) and 0.999828(by Gradient_Boosting)\n",
        "\n",
        "11. The best accuracy algorithm for our test dataset is Xtreme Gradient boosting algorithm with Adj_R2 score of 0.928718.\n",
        "We have other algorithm such as polynomial, Gradient boosting, Random forest who also have optimal Adj_R2 score.\n",
        "\n",
        "12. The best accuracy algorithm for our train dataset is Decision tree algorithm with Adj_R2 score of 1.\n",
        "We have other algorithm such as Gradient boosting, Xtreme_GB and polynomial who also have optimal Adj_R2 score.\n",
        "\n",
        "13. The model with least Adjusted R2 score was Ridge regressor for both train and test data.\n",
        "\n",
        "14. We also used crossvalidation for better model performance."
      ],
      "metadata": {
        "id": "aaNpCxHHJUaP"
      }
    },
    {
      "cell_type": "code",
      "source": [],
      "metadata": {
        "id": "eYf7N3uyAHEM"
      },
      "execution_count": null,
      "outputs": []
    }
  ],
  "metadata": {
    "colab": {
      "collapsed_sections": [
        "NljQxz7B508j",
        "O5eXjUad5gr7",
        "BFeyiZEN8eVG",
        "7zWYEtW79WjH",
        "fyjhDhls9USd",
        "8-pylNxF-LHx",
        "QsNwpSi2CEzE",
        "ovgJFYjeDI07",
        "piHto1beCW01",
        "HuyOvLoRJVy0",
        "32kTqDX9I_yj",
        "NJrh137WOXyx",
        "u4x8khwGOfhv",
        "a6-tWM6r8O2P",
        "meV2vfOWX1f3",
        "k76efctP7v-L",
        "fODRgMJRv4Nj",
        "yrDeroYIMhMO",
        "Jqv3ObUubQb4",
        "iX-Vw41yf4wg",
        "E4qISbc7US1N",
        "cTh5VJx391JA",
        "fozYljKtB3iW",
        "Gsu0A0NXEnfp",
        "wHfSwstfHzfj",
        "_lZKF7s50six",
        "kTbb5wunp8tA",
        "751_3WyV6EFj",
        "AA_O3rou76VN",
        "4u3ZSA4E9--1",
        "vQSDSmkeSUip",
        "gCqwbcopFuRN",
        "I_Ri5fm3A2GX",
        "h8jkh-BJB8Yd",
        "USOGzCVTOo0i",
        "McxTjXDxuubQ",
        "kkf7HNKFSH5J",
        "WSSA31ZjVHbR",
        "BeO5VXfnWZfq",
        "euN7QlMeRPzQ",
        "-3RA-6IYRKgj",
        "w-J3EymZRWhj",
        "tdKPgnfKRd-t",
        "3kYyz0fYuAR7",
        "6xncWAjULe5_",
        "qCKbGzG1LWOm",
        "rEw7hOrcLivI",
        "DGdz55-nOubM",
        "ZCJ2nXfQMAKT",
        "WLxqkOVYMyw-",
        "fyETKXMkhhlY",
        "6lHsQcmfh-HT",
        "HbBNEtqJiP_r",
        "cAby3c9onKYZ",
        "pXZswDkCnf12",
        "MUewvsP3oMVF",
        "tlEr12Ieobgx",
        "Vck5VVbModz3",
        "5sraE3j2o8ou",
        "eloujojnpbZO",
        "BbUZO9yGp4Dc",
        "kxTAWliIyDa6",
        "qXdOp-H9yFyi",
        "HAJ5yM3ryraI"
      ],
      "provenance": [],
      "include_colab_link": true
    },
    "kernelspec": {
      "display_name": "Python 3",
      "name": "python3"
    },
    "language_info": {
      "name": "python"
    }
  },
  "nbformat": 4,
  "nbformat_minor": 0
}